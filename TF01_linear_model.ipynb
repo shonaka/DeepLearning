{
 "cells": [
  {
   "cell_type": "markdown",
   "metadata": {},
   "source": [
    "# Tensorflow implementation 01: linear model\n",
    "\n",
    "by [Sho Nakagome](https://github.com/shonaka)\n",
    "\n",
    "This jupyter notebook is intended to implement a simple linear model on classification problems. In this notebook, we are using fashion MNIST: https://github.com/zalandoresearch/fashion-mnist\n",
    "\n",
    "This work is inspired by: https://github.com/Hvass-Labs/TensorFlow-Tutorials"
   ]
  },
  {
   "cell_type": "markdown",
   "metadata": {},
   "source": [
    "## Imports"
   ]
  },
  {
   "cell_type": "code",
   "execution_count": 27,
   "metadata": {},
   "outputs": [
    {
     "ename": "SyntaxError",
     "evalue": "invalid syntax (<ipython-input-27-084f521054b0>, line 6)",
     "output_type": "error",
     "traceback": [
      "\u001b[0;36m  File \u001b[0;32m\"<ipython-input-27-084f521054b0>\"\u001b[0;36m, line \u001b[0;32m6\u001b[0m\n\u001b[0;31m    matplotlib.rcParams['figure.figsize'] = [12.0 8.0]\u001b[0m\n\u001b[0m                                                    ^\u001b[0m\n\u001b[0;31mSyntaxError\u001b[0m\u001b[0;31m:\u001b[0m invalid syntax\n"
     ]
    }
   ],
   "source": [
    "%matplotlib inline\n",
    "import tensorflow as tf\n",
    "import numpy as np\n",
    "import matplotlib.pyplot as plt"
   ]
  },
  {
   "cell_type": "markdown",
   "metadata": {},
   "source": [
    "Programming environment: Python 3.6 (Anaconda)"
   ]
  },
  {
   "cell_type": "code",
   "execution_count": 18,
   "metadata": {},
   "outputs": [
    {
     "data": {
      "text/plain": [
       "'1.4.0'"
      ]
     },
     "execution_count": 18,
     "metadata": {},
     "output_type": "execute_result"
    }
   ],
   "source": [
    "tf.__version__"
   ]
  },
  {
   "cell_type": "markdown",
   "metadata": {},
   "source": [
    "## Define global variables\n",
    "\n",
    "Now let's define some global variables to be used in the code."
   ]
  },
  {
   "cell_type": "code",
   "execution_count": 19,
   "metadata": {
    "collapsed": true
   },
   "outputs": [],
   "source": [
    "# Image related\n",
    "IMG_HEIGHT = 28\n",
    "IMG_WIDTH = 28\n",
    "# total number of pixels in an image\n",
    "IMG_TOT = IMG_HEIGHT * IMG_WIDTH\n",
    "IMG_SHAPE = (IMG_HEIGHT, IMG_WIDTH)\n",
    "# number of classes\n",
    "NUM_CLASSES = 10\n",
    "# labels corresponding to the numbers\n",
    "LABELS = ['t_shirt_top',  # 0\n",
    "          'trouser',      # 1\n",
    "          'pullover',     # 2\n",
    "          'dress',        # 3\n",
    "          'coat',         # 4\n",
    "          'sandal',       # 5\n",
    "          'shirt',        # 6\n",
    "          'sneaker',      # 7\n",
    "          'bag',          # 8\n",
    "          'ankle_boots']  # 9"
   ]
  },
  {
   "cell_type": "markdown",
   "metadata": {},
   "source": [
    "## Import data and checking the dataset"
   ]
  },
  {
   "cell_type": "code",
   "execution_count": 20,
   "metadata": {},
   "outputs": [
    {
     "name": "stdout",
     "output_type": "stream",
     "text": [
      "Extracting data/fashion/train-images-idx3-ubyte.gz\n",
      "Extracting data/fashion/train-labels-idx1-ubyte.gz\n",
      "Extracting data/fashion/t10k-images-idx3-ubyte.gz\n",
      "Extracting data/fashion/t10k-labels-idx1-ubyte.gz\n"
     ]
    }
   ],
   "source": [
    "from tensorflow.examples.tutorials.mnist import input_data\n",
    "data = input_data.read_data_sets('data/fashion', \n",
    "                                 source_url='http://fashion-mnist.s3-website.eu-central-1.amazonaws.com/')"
   ]
  },
  {
   "cell_type": "markdown",
   "metadata": {},
   "source": [
    "Now we have imported the data, let's first check the dimensions of the dataset."
   ]
  },
  {
   "cell_type": "code",
   "execution_count": 21,
   "metadata": {},
   "outputs": [
    {
     "name": "stdout",
     "output_type": "stream",
     "text": [
      "Checking number of images in the dataset:\n",
      "\tTraining set:\t\t55000\n",
      "\tValidation set:\t\t5000\n",
      "\tTest set:\t\t10000\n"
     ]
    }
   ],
   "source": [
    "print(\"Checking number of images in the dataset:\")\n",
    "print(\"\\tTraining set:\\t\\t{0}\".format(len(data.train.labels)))\n",
    "print(\"\\tValidation set:\\t\\t{0}\".format(len(data.validation.labels)))\n",
    "print(\"\\tTest set:\\t\\t{0}\".format(len(data.test.labels)))"
   ]
  },
  {
   "cell_type": "markdown",
   "metadata": {},
   "source": [
    "Let's also check the example labels."
   ]
  },
  {
   "cell_type": "code",
   "execution_count": 22,
   "metadata": {},
   "outputs": [
    {
     "name": "stdout",
     "output_type": "stream",
     "text": [
      "Example training labels:\n",
      "[4 0 7 9 9]\n"
     ]
    }
   ],
   "source": [
    "print(\"Example training labels:\")\n",
    "print(data.train.labels[0:5])"
   ]
  },
  {
   "cell_type": "markdown",
   "metadata": {},
   "source": [
    "Now let's define a helper function to visualize some images and labels. This will be used later to visualize some misclassified images too."
   ]
  },
  {
   "cell_type": "code",
   "execution_count": 23,
   "metadata": {
    "collapsed": true
   },
   "outputs": [],
   "source": [
    "def plt_image_labels(images, num_row, num_col, class_true, class_pred=None):\n",
    "    \"\"\"\n",
    "    Plot images with true labels. If specified, predicted class too.\n",
    "    :param images: the image data itself, containing pixel data.\n",
    "    :param num_row: how many number of rows you want to plot.\n",
    "    :param num_col: how many number of columns you want to plot.\n",
    "    :param class_true: the true class labels for the images you give as the first input.\n",
    "    :param class_pred: the predicted class labels. If not specified, it does not plot the labels.\n",
    "    \"\"\"\n",
    "    # Check if the specified num_row and num_col matches the total number of images\n",
    "    assert len(images) == len(class_true) == num_row * num_col\n",
    "    \n",
    "    # Create a subplot of num_row x num_col\n",
    "    fig, axes = plt.subplots(num_row, num_col)\n",
    "    fig.subplots_adjust(hspace=0.1*num_row, wspace=0.1*num_col)\n",
    "    \n",
    "    # for each image, plot the image and the true label. If there's predicted, plot that too.\n",
    "    for i, ax in enumerate(axes.flat):\n",
    "        # Plot the image\n",
    "        ax.imshow(images[i].reshape(IMG_SHAPE), cmap='binary')\n",
    "        \n",
    "        # Show labels\n",
    "        if class_pred is None:\n",
    "            xlabel = \"True: {0},\".format(class_true[i])\n",
    "        else:\n",
    "            xlabel = \"True: {0}, Pred: {1}\".format(class_true[i], class_pred[i])\n",
    "            \n",
    "        ax.set_xlabel(xlabel)\n",
    "        \n",
    "        # Remove ticks from the plot\n",
    "        ax.set_xticks([])\n",
    "        ax.set_yticks([])"
   ]
  },
  {
   "cell_type": "markdown",
   "metadata": {},
   "source": [
    "Plotting few images and labels for checking."
   ]
  },
  {
   "cell_type": "code",
   "execution_count": 24,
   "metadata": {},
   "outputs": [
    {
     "data": {
      "image/png": "[encoded data removed]",
      "text/plain": [
       "<matplotlib.figure.Figure at 0x7f4403b75550>"
      ]
     },
     "metadata": {},
     "output_type": "display_data"
    }
   ],
   "source": [
    "images = data.train.images[0:16]\n",
    "class_true = data.train.labels[0:16]\n",
    "\n",
    "# Plot using the function you made above\n",
    "plt_image_labels(images=images, num_row=4, num_col=4, class_true=class_true)"
   ]
  },
  {
   "cell_type": "code",
   "execution_count": null,
   "metadata": {
    "collapsed": true
   },
   "outputs": [],
   "source": []
  }
 ],
 "metadata": {
  "kernelspec": {
   "display_name": "Python 3",
   "language": "python",
   "name": "python3"
  },
  "language_info": {
   "codemirror_mode": {
    "name": "ipython",
    "version": 3
   },
   "file_extension": ".py",
   "mimetype": "text/x-python",
   "name": "python",
   "nbconvert_exporter": "python",
   "pygments_lexer": "ipython3",
   "version": "3.6.3"
  }
 },
 "nbformat": 4,
 "nbformat_minor": 2
}

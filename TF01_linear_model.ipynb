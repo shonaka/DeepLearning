{
 "cells": [
  {
   "cell_type": "markdown",
   "metadata": {},
   "source": [
    "# Tensorflow implementation 01: linear model\n",
    "\n",
    "by [Sho Nakagome](https://github.com/shonaka)\n",
    "\n",
    "This jupyter notebook is intended to implement a simple linear model on classification problems. In this notebook, we are using fashion MNIST: https://github.com/zalandoresearch/fashion-mnist\n",
    "\n",
    "Make sure you follow the instruction in the above URL if you cannot read data.\n",
    "\n",
    "This work is inspired by: https://github.com/Hvass-Labs/TensorFlow-Tutorials"
   ]
  },
  {
   "cell_type": "markdown",
   "metadata": {},
   "source": [
    "## Imports"
   ]
  },
  {
   "cell_type": "code",
   "execution_count": 1,
   "metadata": {},
   "outputs": [],
   "source": [
    "%matplotlib inline\n",
    "import tensorflow as tf\n",
    "import numpy as np\n",
    "import matplotlib.pyplot as plt\n",
    "# Just to make plotting images larger on the jupyter notebook\n",
    "import matplotlib\n",
    "matplotlib.rcParams['figure.figsize'] = (12, 8)"
   ]
  },
  {
   "cell_type": "markdown",
   "metadata": {},
   "source": [
    "Programming environment: Python 3.6 (Anaconda)"
   ]
  },
  {
   "cell_type": "code",
   "execution_count": 2,
   "metadata": {},
   "outputs": [
    {
     "data": {
      "text/plain": [
       "'1.4.0'"
      ]
     },
     "execution_count": 2,
     "metadata": {},
     "output_type": "execute_result"
    }
   ],
   "source": [
    "tf.__version__"
   ]
  },
  {
   "cell_type": "markdown",
   "metadata": {},
   "source": [
    "## Define global variables\n",
    "\n",
    "Now let's define some global variables to be used in the code."
   ]
  },
  {
   "cell_type": "code",
   "execution_count": 3,
   "metadata": {
    "collapsed": true
   },
   "outputs": [],
   "source": [
    "# Image related\n",
    "IMG_HEIGHT = 28\n",
    "IMG_WIDTH = 28\n",
    "# total number of pixels in an image\n",
    "IMG_TOT = IMG_HEIGHT * IMG_WIDTH\n",
    "IMG_SHAPE = (IMG_HEIGHT, IMG_WIDTH)\n",
    "# number of classes\n",
    "NUM_CLASSES = 10\n",
    "# labels corresponding to the numbers\n",
    "LABELS = ['t_shirt_top',  # 0\n",
    "          'trouser',      # 1\n",
    "          'pullover',     # 2\n",
    "          'dress',        # 3\n",
    "          'coat',         # 4\n",
    "          'sandal',       # 5\n",
    "          'shirt',        # 6\n",
    "          'sneaker',      # 7\n",
    "          'bag',          # 8\n",
    "          'ankle_boots']  # 9\n",
    "\n",
    "# Optimization related\n",
    "LEARNING_RATE = 1e-3\n",
    "BATCH_SIZE = 50\n",
    "NUM_EPOCHS = 500"
   ]
  },
  {
   "cell_type": "markdown",
   "metadata": {},
   "source": [
    "## Import data and checking the dataset"
   ]
  },
  {
   "cell_type": "code",
   "execution_count": 4,
   "metadata": {},
   "outputs": [
    {
     "name": "stdout",
     "output_type": "stream",
     "text": [
      "Extracting data/fashion/train-images-idx3-ubyte.gz\n",
      "Extracting data/fashion/train-labels-idx1-ubyte.gz\n",
      "Extracting data/fashion/t10k-images-idx3-ubyte.gz\n",
      "Extracting data/fashion/t10k-labels-idx1-ubyte.gz\n"
     ]
    }
   ],
   "source": [
    "from tensorflow.examples.tutorials.mnist import input_data\n",
    "data = input_data.read_data_sets('data/fashion', \n",
    "                                 source_url='http://fashion-mnist.s3-website.eu-central-1.amazonaws.com/',\n",
    "                                 one_hot=True)"
   ]
  },
  {
   "cell_type": "markdown",
   "metadata": {},
   "source": [
    "Now we have imported the data, let's first check the dimensions of the dataset."
   ]
  },
  {
   "cell_type": "code",
   "execution_count": 5,
   "metadata": {},
   "outputs": [
    {
     "name": "stdout",
     "output_type": "stream",
     "text": [
      "Checking number of images in the dataset:\n",
      "\tTraining set:\t\t55000\n",
      "\tValidation set:\t\t5000\n",
      "\tTest set:\t\t10000\n"
     ]
    }
   ],
   "source": [
    "print(\"Checking number of images in the dataset:\")\n",
    "print(\"\\tTraining set:\\t\\t{0}\".format(len(data.train.labels)))\n",
    "print(\"\\tValidation set:\\t\\t{0}\".format(len(data.validation.labels)))\n",
    "print(\"\\tTest set:\\t\\t{0}\".format(len(data.test.labels)))"
   ]
  },
  {
   "cell_type": "markdown",
   "metadata": {},
   "source": [
    "Let's also check the example labels. Right now, it's loaded as one-hot vector. This means that the true class is indicated as 1 in the column. Each row represents different samples."
   ]
  },
  {
   "cell_type": "code",
   "execution_count": 6,
   "metadata": {},
   "outputs": [
    {
     "name": "stdout",
     "output_type": "stream",
     "text": [
      "Example training labels:\n",
      "[[ 0.  0.  0.  0.  1.  0.  0.  0.  0.  0.]\n",
      " [ 1.  0.  0.  0.  0.  0.  0.  0.  0.  0.]\n",
      " [ 0.  0.  0.  0.  0.  0.  0.  1.  0.  0.]\n",
      " [ 0.  0.  0.  0.  0.  0.  0.  0.  0.  1.]\n",
      " [ 0.  0.  0.  0.  0.  0.  0.  0.  0.  1.]]\n"
     ]
    }
   ],
   "source": [
    "print(\"Example training labels:\")\n",
    "print(data.train.labels[0:5, :])"
   ]
  },
  {
   "cell_type": "code",
   "execution_count": 7,
   "metadata": {},
   "outputs": [
    {
     "name": "stdout",
     "output_type": "stream",
     "text": [
      "[9 2 1 1 6]\n"
     ]
    }
   ],
   "source": [
    "# Define another class labels where the true class is indicated by the integer values\n",
    "data.train.cls = np.array([label.argmax() for label in data.train.labels])\n",
    "data.validation.cls = np.array([label.argmax() for label in data.validation.labels])\n",
    "data.test.cls = np.array([label.argmax() for label in data.test.labels])\n",
    "\n",
    "# Showing an example\n",
    "print(data.test.cls[0:5])"
   ]
  },
  {
   "cell_type": "markdown",
   "metadata": {},
   "source": [
    "Now let's define a helper function to visualize some images and labels. This will be used later to visualize some misclassified images too."
   ]
  },
  {
   "cell_type": "code",
   "execution_count": 8,
   "metadata": {
    "collapsed": true
   },
   "outputs": [],
   "source": [
    "def plt_image_labels(images, num_row, num_col, class_true, class_pred=None):\n",
    "    \"\"\"\n",
    "    Plot images with true labels. If specified, predicted class too.\n",
    "    :param images: the image data itself, containing pixel data.\n",
    "    :param num_row: how many number of rows you want to plot.\n",
    "    :param num_col: how many number of columns you want to plot.\n",
    "    :param class_true: the true class labels for the images you give as the first input.\n",
    "    :param class_pred: the predicted class labels. If not specified, it does not plot the labels.\n",
    "    \"\"\"\n",
    "    # Check if the specified num_row and num_col matches the total number of images\n",
    "    assert len(images) == len(class_true) == num_row * num_col\n",
    "    \n",
    "    # Create a subplot of num_row x num_col\n",
    "    fig, axes = plt.subplots(num_row, num_col)\n",
    "    fig.subplots_adjust(hspace=0.1*num_row, wspace=0.1*num_col)\n",
    "    \n",
    "    # for each image, plot the image and the true label. If there's predicted, plot that too.\n",
    "    for i, ax in enumerate(axes.flat):\n",
    "        # Plot the image\n",
    "        ax.imshow(images[i].reshape(IMG_SHAPE), cmap='binary')\n",
    "        \n",
    "        # Show labels\n",
    "        if class_pred is None:\n",
    "            xlabel = \"True: {0},\".format(LABELS[class_true[i]])\n",
    "        else:\n",
    "            xlabel = \"True: {0}, Pred: {1}\".format(LABELS[class_true[i]],\n",
    "                                                   LABELS[class_pred[i]])\n",
    "            \n",
    "        ax.set_xlabel(xlabel)\n",
    "        \n",
    "        # Remove ticks from the plot\n",
    "        ax.set_xticks([])\n",
    "        ax.set_yticks([])"
   ]
  },
  {
   "cell_type": "markdown",
   "metadata": {},
   "source": [
    "Plotting few images and labels for checking."
   ]
  },
  {
   "cell_type": "code",
   "execution_count": 9,
   "metadata": {},
   "outputs": [
    {
     "data": {
      "image/png": "[encoded data removed]",
      "text/plain": [
       "<matplotlib.figure.Figure at 0x7fd4b83bbcf8>"
      ]
     },
     "metadata": {},
     "output_type": "display_data"
    }
   ],
   "source": [
    "images = data.train.images[0:16]\n",
    "class_true = data.train.cls[0:16]\n",
    "\n",
    "# Plot using the function you made above\n",
    "plt_image_labels(images=images, num_row=4, num_col=4, class_true=class_true)"
   ]
  },
  {
   "cell_type": "markdown",
   "metadata": {},
   "source": [
    "## Define tensorflow graph\n",
    "\n",
    "Tensorflow requires you to construct and computation model first with placeholders and variables (to be optimized) before actually calculating the predictions. Here, we are going to define each of those.\n"
   ]
  },
  {
   "cell_type": "code",
   "execution_count": 10,
   "metadata": {
    "collapsed": true
   },
   "outputs": [],
   "source": [
    "# Define place holders. These are where your input and output goes when actually computing.\n",
    "X = tf.placeholder(tf.float32, [None, IMG_TOT], name=\"X\")\n",
    "Y = tf.placeholder(tf.float32, [None, NUM_CLASSES], name=\"Y\")\n",
    "Y_true_class = tf.placeholder(tf.int64, [None], name=\"Y_true_class\")\n",
    "\n",
    "# Define variables. These variables are going to be optimized when computing.\n",
    "W = tf.Variable(tf.truncated_normal([IMG_TOT, NUM_CLASSES], stddev=0.1), name=\"weights\")\n",
    "b = tf.Variable(tf.zeros([NUM_CLASSES]), name=\"biases\")"
   ]
  },
  {
   "cell_type": "markdown",
   "metadata": {},
   "source": [
    "Now we define a linear regression model."
   ]
  },
  {
   "cell_type": "code",
   "execution_count": 11,
   "metadata": {},
   "outputs": [],
   "source": [
    "# Defining a simple linear model Y_pred = WX + b\n",
    "model = tf.add(tf.matmul(X, W), b)\n",
    "\n",
    "# Use softmax layer to normalize the output and then get the highest number to determine the class\n",
    "Y_pred = tf.nn.softmax(model)\n",
    "Y_pred_class = tf.argmax(Y_pred, axis=1)"
   ]
  },
  {
   "cell_type": "markdown",
   "metadata": {},
   "source": [
    "We also need to define a loss function."
   ]
  },
  {
   "cell_type": "code",
   "execution_count": 12,
   "metadata": {},
   "outputs": [],
   "source": [
    "# Define loss function. Least squared error\n",
    "l2_sq = tf.reduce_mean(tf.multiply(0.5, tf.square(tf.subtract(model, Y))), axis=0, name=\"least_square\")"
   ]
  },
  {
   "cell_type": "markdown",
   "metadata": {},
   "source": [
    "And finally, we are going to define optimization method"
   ]
  },
  {
   "cell_type": "code",
   "execution_count": 13,
   "metadata": {
    "collapsed": true
   },
   "outputs": [],
   "source": [
    "optimizer = tf.train.GradientDescentOptimizer(learning_rate=LEARNING_RATE).minimize(l2_sq, name=\"minimizer\")"
   ]
  },
  {
   "cell_type": "markdown",
   "metadata": {},
   "source": [
    "We also need to define performance measures"
   ]
  },
  {
   "cell_type": "code",
   "execution_count": 14,
   "metadata": {},
   "outputs": [],
   "source": [
    "correct_prediction = tf.equal(Y_pred_class, Y_true_class)\n",
    "accuracy = tf.reduce_mean(tf.cast(correct_prediction, tf.float32))"
   ]
  },
  {
   "cell_type": "markdown",
   "metadata": {},
   "source": [
    "## Running tensorflow session\n",
    "\n",
    "From here, we are going to run the tensorflow graph defined above. Usually, you put the above codes into functions and then from here, you execute the session. You could write the below codes into the main function.\n",
    "\n",
    "At first, we are going to define global variable initializer"
   ]
  },
  {
   "cell_type": "code",
   "execution_count": 16,
   "metadata": {},
   "outputs": [
    {
     "name": "stdout",
     "output_type": "stream",
     "text": [
      "Initializing all the variables.\n",
      "Start training.\n",
      "Loss function: 0.5179\n",
      "Loss function: 0.1666\n",
      "Loss function: 0.1268\n",
      "Loss function: 0.1173\n",
      "Loss function: 0.1053\n",
      "Loss function: 0.1310\n",
      "Loss function: 0.1002\n",
      "Loss function: 0.0996\n",
      "Loss function: 0.1034\n",
      "Loss function: 0.0883\n",
      "Training finished.\n",
      "Test accuracy: 31.2%\n"
     ]
    }
   ],
   "source": [
    "# Make sure that you never call this before creating a model since it requires that you have defined a graph already.\n",
    "init = tf.global_variables_initializer()\n",
    "\n",
    "# Running a tensorflow session\n",
    "with tf.Session() as sess:\n",
    "    print(\"Initializing all the variables.\")\n",
    "    sess.run(init)\n",
    "    \n",
    "    print(\"Start training.\")\n",
    "    for i in range(NUM_EPOCHS):\n",
    "        # Get a batch of training samples. Every time this is called within a loop,\n",
    "        # it gets the next batch.\n",
    "        x_batch, y_batch = data.train.next_batch(BATCH_SIZE)\n",
    "        \n",
    "        # Create a dict with batched samples. This will go into the optimizer to train the model.\n",
    "        feed_dict_train = {X: x_batch, Y: y_batch}\n",
    "        \n",
    "        # Run the optimization and calculate the loss at the same time\n",
    "        result_l, _ = sess.run([l2_sq, optimizer], feed_dict=feed_dict_train)\n",
    "        mean_loss = np.mean(result_l)\n",
    "        \n",
    "        # Print the loss and the training accuracy every 10 iteration\n",
    "        if i % BATCH_SIZE == 0:\n",
    "            print(\"Loss function: %.4f\" % mean_loss)\n",
    "            \n",
    "    print(\"Training finished.\")\n",
    "    \n",
    "    # We are going to feed all the test samples\n",
    "    feed_dict_test = {X: data.test.images,\n",
    "                  Y: data.test.labels,\n",
    "                  Y_true_class: data.test.cls}\n",
    "\n",
    "    # Calculate the accuracy\n",
    "    acc = sess.run(accuracy, feed_dict=feed_dict_test)\n",
    "\n",
    "# Print the accuracy\n",
    "print(\"Test accuracy: {0:.1%}\".format(acc))"
   ]
  },
  {
   "cell_type": "markdown",
   "metadata": {},
   "source": [
    "Now, we have finished the training. Let's check the accuracy on the test dataset."
   ]
  },
  {
   "cell_type": "code",
   "execution_count": null,
   "metadata": {},
   "outputs": [],
   "source": []
  },
  {
   "cell_type": "code",
   "execution_count": null,
   "metadata": {
    "collapsed": true
   },
   "outputs": [],
   "source": []
  }
 ],
 "metadata": {
  "kernelspec": {
   "display_name": "Python 3",
   "language": "python",
   "name": "python3"
  },
  "language_info": {
   "codemirror_mode": {
    "name": "ipython",
    "version": 3
   },
   "file_extension": ".py",
   "mimetype": "text/x-python",
   "name": "python",
   "nbconvert_exporter": "python",
   "pygments_lexer": "ipython3",
   "version": "3.6.3"
  }
 },
 "nbformat": 4,
 "nbformat_minor": 2
}

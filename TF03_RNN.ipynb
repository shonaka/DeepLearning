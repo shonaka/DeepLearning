{
 "cells": [
  {
   "cell_type": "markdown",
   "metadata": {},
   "source": [
    "# Tensorflow implementation 03: RNN\n",
    "\n",
    "by [Sho Nakagome](https://github.com/shonaka)\n",
    "\n",
    "This jupyter notebook is intended to implement a simple RNN (Recurrent Neural Network) model on predicting sequential time series. For the data, we will be using Bitcoin historical price data available [here](http://api.bitcoincharts.com/v1/csv/)."
   ]
  },
  {
   "cell_type": "markdown",
   "metadata": {},
   "source": [
    "## Imports"
   ]
  },
  {
   "cell_type": "code",
   "execution_count": 1,
   "metadata": {},
   "outputs": [
    {
     "name": "stderr",
     "output_type": "stream",
     "text": [
      "/home/snakagom/anaconda3/lib/python3.6/site-packages/h5py/__init__.py:34: FutureWarning: Conversion of the second argument of issubdtype from `float` to `np.floating` is deprecated. In future, it will be treated as `np.float64 == np.dtype(float).type`.\n",
      "  from ._conv import register_converters as _register_converters\n"
     ]
    }
   ],
   "source": [
    "import tensorflow as tf\n",
    "import numpy as np\n",
    "import pandas as pd\n",
    "import matplotlib.pyplot as plt\n",
    "# Just for visualization in jupyter notebook purposes\n",
    "%matplotlib inline\n",
    "plt.rcParams['figure.figsize'] = (12, 8)"
   ]
  },
  {
   "cell_type": "markdown",
   "metadata": {},
   "source": [
    "Programming environment: Python 3.6 (Anaconda)"
   ]
  },
  {
   "cell_type": "code",
   "execution_count": 2,
   "metadata": {},
   "outputs": [
    {
     "data": {
      "text/plain": [
       "'1.5.0'"
      ]
     },
     "execution_count": 2,
     "metadata": {},
     "output_type": "execute_result"
    }
   ],
   "source": [
    "tf.__version__"
   ]
  },
  {
   "cell_type": "markdown",
   "metadata": {},
   "source": [
    "## Define global variables\n",
    "\n",
    "Let's define some global variables to be used in the code. Don't worry about this for now since we will be describing these in the later part of the notebooks when these appear."
   ]
  },
  {
   "cell_type": "code",
   "execution_count": null,
   "metadata": {
    "collapsed": true
   },
   "outputs": [],
   "source": [
    "# RNN related\n",
    "NUM_HIDDEN = 32  # Number of hidden units in a hidden layer\n",
    "\n",
    "# Optimization related\n",
    "LEARNING_RATE = 1e-3\n",
    "BATCH_SIZE = 64  # Better to have a batch size 2^n\n",
    "NUM_EPOCHS = BATCH_SIZE * 10"
   ]
  },
  {
   "cell_type": "markdown",
   "metadata": {},
   "source": [
    "## Import data and checking the dataset"
   ]
  },
  {
   "cell_type": "markdown",
   "metadata": {},
   "source": [
    "We will be importing data using pandas. [Pandas](https://pandas.pydata.org/) is a very good library to handle data structures and processing, like the .csv file we are going to use in this notebook. To know more about the library, go check the website linked in the beginning of this sentence."
   ]
  },
  {
   "cell_type": "code",
   "execution_count": null,
   "metadata": {
    "collapsed": true
   },
   "outputs": [],
   "source": [
    "# Load the data\n",
    "df = pd.read_csv('data/.coinbaseUSD.csv')"
   ]
  },
  {
   "cell_type": "markdown",
   "metadata": {},
   "source": [
    "Since the .csv file is a little over 150MB, it might take a while.\n",
    "\n",
    "Once the loading is done, let's check the dataset a bit."
   ]
  },
  {
   "cell_type": "code",
   "execution_count": null,
   "metadata": {},
   "outputs": [],
   "source": [
    "# Show the first n = 10 rows\n",
    "df.head(10)"
   ]
  },
  {
   "cell_type": "markdown",
   "metadata": {},
   "source": [
    "As you could see, the data is a little difficult to decipher. Let's put some titles to the columns and encode the date so that we could easily interpret the data. "
   ]
  },
  {
   "cell_type": "code",
   "execution_count": null,
   "metadata": {},
   "outputs": [],
   "source": [
    "# Adding column labels\n",
    "df.columns = ['TimeStamp', 'PriceUSD', 'Volume']\n",
    "df.head() # default n = 5"
   ]
  },
  {
   "cell_type": "code",
   "execution_count": null,
   "metadata": {},
   "outputs": [],
   "source": [
    "# Encode the date and replace the index by the date\n",
    "df.TimeStamp= pd.to_datetime(df['TimeStamp'], unit='s')\n",
    "\n",
    "# Change the index with the encoded date\n",
    "df.index = df.TimeStamp\n",
    "\n",
    "# Show the data just for checking\n",
    "df.head()"
   ]
  },
  {
   "cell_type": "markdown",
   "metadata": {},
   "source": [
    "Now that we have the data organized, we will group them by day, month, year to see the trends."
   ]
  },
  {
   "cell_type": "code",
   "execution_count": null,
   "metadata": {
    "collapsed": true
   },
   "outputs": [],
   "source": [
    "# Group by day\n",
    "df_day = df.resample('D').mean()\n",
    "\n",
    "# Group by month\n",
    "df_month = df.resample('M').mean()\n",
    "\n",
    "# Group by year\n",
    "df_year = df.resample('Y').mean()"
   ]
  },
  {
   "cell_type": "markdown",
   "metadata": {},
   "source": [
    "Let's check each of the resampled data."
   ]
  },
  {
   "cell_type": "code",
   "execution_count": null,
   "metadata": {},
   "outputs": [],
   "source": [
    "df_day.head(10)"
   ]
  },
  {
   "cell_type": "code",
   "execution_count": null,
   "metadata": {},
   "outputs": [],
   "source": [
    "df_month.head(10)"
   ]
  },
  {
   "cell_type": "code",
   "execution_count": null,
   "metadata": {},
   "outputs": [],
   "source": [
    "df_year.head(10)"
   ]
  },
  {
   "cell_type": "markdown",
   "metadata": {},
   "source": [
    "Now you see that there's some missing day transactions in df_day and we will be removing the day with Nans. Note that there's only 5 rows in df_year since the bitcoin transaction on coinbase started in 2014. It's kind of amazing that this crypto currency stuff have gained so much popularity and money flowing in considering the fact that it only appeared less than 10 years ago."
   ]
  },
  {
   "cell_type": "code",
   "execution_count": null,
   "metadata": {},
   "outputs": [],
   "source": [
    "# Removing the rows with Nans\n",
    "df_day = df_day.dropna()\n",
    "df_day.head(10)"
   ]
  },
  {
   "cell_type": "markdown",
   "metadata": {},
   "source": [
    "As a last step in checking the datasets, let's visualize our data and then move on to predicting bitcoin prices by day."
   ]
  },
  {
   "cell_type": "code",
   "execution_count": null,
   "metadata": {
    "scrolled": false
   },
   "outputs": [],
   "source": [
    "# Visualizing the data\n",
    "fig = plt.figure()\n",
    "\n",
    "# Day\n",
    "plt.subplot(311)\n",
    "plt.plot(df_day.PriceUSD, '-', label='By Days')\n",
    "plt.title('Bitcoin price from Coinbase in USD', fontsize=24)\n",
    "\n",
    "# Month\n",
    "plt.subplot(312)\n",
    "plt.plot(df_month.PriceUSD, '-', label='By Months')\n",
    "plt.ylabel('Bitcoin Price in USD', fontsize=18)\n",
    "\n",
    "# Year\n",
    "plt.subplot(313)\n",
    "plt.plot(df_year.PriceUSD, '-', label='By Years')\n",
    "plt.xlabel('Time', fontsize=18)"
   ]
  },
  {
   "cell_type": "markdown",
   "metadata": {},
   "source": [
    "As you can see from the graph, from 2014 to 2016, there's not much price change, so I will be only considering the data from the beginning of 2016."
   ]
  },
  {
   "cell_type": "code",
   "execution_count": null,
   "metadata": {},
   "outputs": [],
   "source": [
    "# The data we are going to use for prediction\n",
    "data = df_day[(df_day.index > '2016-01-01')]\n",
    "\n",
    "# Check the shape of the data that we are using\n",
    "print('Data shape: ',data.shape)"
   ]
  },
  {
   "cell_type": "markdown",
   "metadata": {},
   "source": [
    "Let's divide the data into training and testing sets. We will be using 90% of the data as training and the rest as testing. Also, note that the target data labels for training will be one sample ahead of the training samples. In other words, we will be using a previous sample to predict the next sample."
   ]
  },
  {
   "cell_type": "code",
   "execution_count": null,
   "metadata": {},
   "outputs": [],
   "source": [
    "# Total length of the data set\n",
    "tot_len = data.shape[0]\n",
    "\n",
    "# Divide the data into training and testing sets\n",
    "train_data = data.PriceUSD[:np.int(tot_len*0.9)]\n",
    "test_data = data.PriceUSD[np.int(tot_len*0.9):]\n",
    "train_target = data.PriceUSD[1:np.int(tot_len*0.9)+1]\n",
    "\n",
    "# Just for checking the dimensions\n",
    "print('Train data shape:',train_data.shape)\n",
    "print('Test data shape:',test_data.shape)\n",
    "print('Train target shape:',train_target.shape)"
   ]
  },
  {
   "cell_type": "markdown",
   "metadata": {},
   "source": [
    "## Define tensorflow graph\n",
    "\n",
    "From here, we are going to construct tensorflow graph of RNN (Recurrent Neural Network) model.\n",
    "\n",
    "First, let's define variables and placeholders."
   ]
  },
  {
   "cell_type": "code",
   "execution_count": null,
   "metadata": {
    "collapsed": true
   },
   "outputs": [],
   "source": [
    "# Defining variables\n",
    "# NUM_HIDDEN is a number of hidden units in a hidden layer\n",
    "W = tf.get_variable(name=\"W\", shape=[NUM_HIDDEN, 1], initializer=tf.contrib.layers.xavier_initializer())\n",
    "b = tf.get_variable(name=\"b\", initializer=tf.constant(np.random.rand(1, 1)))\n",
    "\n",
    "# Defining placeholders\n",
    "# Note that each time we are feeding only one bitcoin price data and predicting the next one sample\n",
    "X = tf.placeholder(tf.float32, shape=[None, 1], name=\"Input_X\")\n",
    "Y = tf.placeholder(tf.float32, shape=[None, 1], name=\"Target_Y\")"
   ]
  },
  {
   "cell_type": "markdown",
   "metadata": {},
   "source": [
    "### RNN model\n",
    "\n",
    "Now since we have defined the variables and placeholders, let's start making the RNN model."
   ]
  },
  {
   "cell_type": "code",
   "execution_count": null,
   "metadata": {
    "collapsed": true
   },
   "outputs": [],
   "source": []
  }
 ],
 "metadata": {
  "kernelspec": {
   "display_name": "Python 3",
   "language": "python",
   "name": "python3"
  },
  "language_info": {
   "codemirror_mode": {
    "name": "ipython",
    "version": 3
   },
   "file_extension": ".py",
   "mimetype": "text/x-python",
   "name": "python",
   "nbconvert_exporter": "python",
   "pygments_lexer": "ipython3",
   "version": "3.6.3"
  }
 },
 "nbformat": 4,
 "nbformat_minor": 2
}

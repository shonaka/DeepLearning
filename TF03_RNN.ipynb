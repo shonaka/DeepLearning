{
 "cells": [
  {
   "cell_type": "markdown",
   "metadata": {},
   "source": [
    "# Tensorflow implementation 03: RNN\n",
    "\n",
    "by [Sho Nakagome](https://github.com/shonaka)\n",
    "\n",
    "This jupyter notebook is intended to implement a simple RNN (Recurrent Neural Network) model on predicting sequential time series. For the data, we will be using Bitcoin historical price data available [here](http://api.bitcoincharts.com/v1/csv/)."
   ]
  },
  {
   "cell_type": "markdown",
   "metadata": {},
   "source": [
    "## Imports"
   ]
  },
  {
   "cell_type": "code",
   "execution_count": 1,
   "metadata": {},
<<<<<<< HEAD
   "outputs": [
    {
     "name": "stderr",
     "output_type": "stream",
     "text": [
      "/home/snakagom/anaconda3/lib/python3.6/site-packages/h5py/__init__.py:34: FutureWarning: Conversion of the second argument of issubdtype from `float` to `np.floating` is deprecated. In future, it will be treated as `np.float64 == np.dtype(float).type`.\n",
      "  from ._conv import register_converters as _register_converters\n"
     ]
    }
   ],
=======
   "outputs": [],
>>>>>>> 3a4f59586952e08990ad624db5adf4a2cf1c7e5b
   "source": [
    "import tensorflow as tf\n",
    "import numpy as np\n",
    "import pandas as pd\n",
    "import matplotlib.pyplot as plt\n",
    "# Just for visualization in jupyter notebook purposes\n",
    "%matplotlib inline\n",
<<<<<<< HEAD
    "plt.rcParams['figure.figsize'] = (12, 8)"
=======
    "import matplotlib\n",
    "matplotlib.rcParams['figure.figsize'] = (12, 8)"
>>>>>>> 3a4f59586952e08990ad624db5adf4a2cf1c7e5b
   ]
  },
  {
   "cell_type": "markdown",
   "metadata": {},
   "source": [
    "Programming environment: Python 3.6 (Anaconda)"
   ]
  },
  {
   "cell_type": "code",
   "execution_count": 2,
   "metadata": {},
   "outputs": [
    {
     "data": {
      "text/plain": [
<<<<<<< HEAD
       "'1.5.0'"
=======
       "'1.4.0'"
>>>>>>> 3a4f59586952e08990ad624db5adf4a2cf1c7e5b
      ]
     },
     "execution_count": 2,
     "metadata": {},
     "output_type": "execute_result"
    }
   ],
   "source": [
    "tf.__version__"
   ]
  },
  {
   "cell_type": "markdown",
   "metadata": {},
   "source": [
    "## Define global variables\n",
    "\n",
<<<<<<< HEAD
    "Let's define some global variables to be used in the code. Don't worry about this for now since we will be describing these in the later part of the notebooks when these appear."
=======
    "Let's define some global variables to be used in the code."
>>>>>>> 3a4f59586952e08990ad624db5adf4a2cf1c7e5b
   ]
  },
  {
   "cell_type": "code",
<<<<<<< HEAD
   "execution_count": null,
=======
   "execution_count": 3,
>>>>>>> 3a4f59586952e08990ad624db5adf4a2cf1c7e5b
   "metadata": {
    "collapsed": true
   },
   "outputs": [],
   "source": [
<<<<<<< HEAD
    "# RNN related\n",
    "NUM_HIDDEN = 32  # Number of hidden units in a hidden layer\n",
    "\n",
=======
>>>>>>> 3a4f59586952e08990ad624db5adf4a2cf1c7e5b
    "# Optimization related\n",
    "LEARNING_RATE = 1e-3\n",
    "BATCH_SIZE = 64  # Better to have a batch size 2^n\n",
    "NUM_EPOCHS = BATCH_SIZE * 10"
   ]
  },
  {
   "cell_type": "markdown",
   "metadata": {},
   "source": [
    "## Import data and checking the dataset"
   ]
  },
  {
   "cell_type": "markdown",
   "metadata": {},
   "source": [
    "We will be importing data using pandas. [Pandas](https://pandas.pydata.org/) is a very good library to handle data structures and processing, like the .csv file we are going to use in this notebook. To know more about the library, go check the website linked in the beginning of this sentence."
   ]
  },
  {
   "cell_type": "code",
<<<<<<< HEAD
   "execution_count": null,
=======
   "execution_count": 4,
>>>>>>> 3a4f59586952e08990ad624db5adf4a2cf1c7e5b
   "metadata": {
    "collapsed": true
   },
   "outputs": [],
   "source": [
    "# Load the data\n",
    "df = pd.read_csv('data/.coinbaseUSD.csv')"
   ]
  },
  {
   "cell_type": "markdown",
   "metadata": {},
   "source": [
    "Since the .csv file is a little over 150MB, it might take a while.\n",
    "\n",
    "Once the loading is done, let's check the dataset a bit."
   ]
  },
  {
   "cell_type": "code",
<<<<<<< HEAD
   "execution_count": null,
   "metadata": {},
   "outputs": [],
=======
   "execution_count": 5,
   "metadata": {},
   "outputs": [
    {
     "data": {
      "text/html": [
       "<div>\n",
       "<style scoped>\n",
       "    .dataframe tbody tr th:only-of-type {\n",
       "        vertical-align: middle;\n",
       "    }\n",
       "\n",
       "    .dataframe tbody tr th {\n",
       "        vertical-align: top;\n",
       "    }\n",
       "\n",
       "    .dataframe thead th {\n",
       "        text-align: right;\n",
       "    }\n",
       "</style>\n",
       "<table border=\"1\" class=\"dataframe\">\n",
       "  <thead>\n",
       "    <tr style=\"text-align: right;\">\n",
       "      <th></th>\n",
       "      <th>1417412036</th>\n",
       "      <th>300.000000000000</th>\n",
       "      <th>0.010000000000</th>\n",
       "    </tr>\n",
       "  </thead>\n",
       "  <tbody>\n",
       "    <tr>\n",
       "      <th>0</th>\n",
       "      <td>1417412423</td>\n",
       "      <td>300.00</td>\n",
       "      <td>0.010000</td>\n",
       "    </tr>\n",
       "    <tr>\n",
       "      <th>1</th>\n",
       "      <td>1417415048</td>\n",
       "      <td>370.00</td>\n",
       "      <td>0.010000</td>\n",
       "    </tr>\n",
       "    <tr>\n",
       "      <th>2</th>\n",
       "      <td>1417416612</td>\n",
       "      <td>370.00</td>\n",
       "      <td>0.026556</td>\n",
       "    </tr>\n",
       "    <tr>\n",
       "      <th>3</th>\n",
       "      <td>1417498166</td>\n",
       "      <td>377.00</td>\n",
       "      <td>0.010000</td>\n",
       "    </tr>\n",
       "    <tr>\n",
       "      <th>4</th>\n",
       "      <td>1417517949</td>\n",
       "      <td>377.75</td>\n",
       "      <td>0.250000</td>\n",
       "    </tr>\n",
       "    <tr>\n",
       "      <th>5</th>\n",
       "      <td>1417517949</td>\n",
       "      <td>378.00</td>\n",
       "      <td>3.750000</td>\n",
       "    </tr>\n",
       "    <tr>\n",
       "      <th>6</th>\n",
       "      <td>1417518257</td>\n",
       "      <td>378.00</td>\n",
       "      <td>4.900000</td>\n",
       "    </tr>\n",
       "    <tr>\n",
       "      <th>7</th>\n",
       "      <td>1417518340</td>\n",
       "      <td>378.00</td>\n",
       "      <td>5.200000</td>\n",
       "    </tr>\n",
       "    <tr>\n",
       "      <th>8</th>\n",
       "      <td>1417545780</td>\n",
       "      <td>378.00</td>\n",
       "      <td>0.100000</td>\n",
       "    </tr>\n",
       "    <tr>\n",
       "      <th>9</th>\n",
       "      <td>1417546703</td>\n",
       "      <td>378.00</td>\n",
       "      <td>0.793600</td>\n",
       "    </tr>\n",
       "  </tbody>\n",
       "</table>\n",
       "</div>"
      ],
      "text/plain": [
       "   1417412036  300.000000000000  0.010000000000\n",
       "0  1417412423            300.00        0.010000\n",
       "1  1417415048            370.00        0.010000\n",
       "2  1417416612            370.00        0.026556\n",
       "3  1417498166            377.00        0.010000\n",
       "4  1417517949            377.75        0.250000\n",
       "5  1417517949            378.00        3.750000\n",
       "6  1417518257            378.00        4.900000\n",
       "7  1417518340            378.00        5.200000\n",
       "8  1417545780            378.00        0.100000\n",
       "9  1417546703            378.00        0.793600"
      ]
     },
     "execution_count": 5,
     "metadata": {},
     "output_type": "execute_result"
    }
   ],
>>>>>>> 3a4f59586952e08990ad624db5adf4a2cf1c7e5b
   "source": [
    "# Show the first n = 10 rows\n",
    "df.head(10)"
   ]
  },
  {
   "cell_type": "markdown",
   "metadata": {},
   "source": [
    "As you could see, the data is a little difficult to decipher. Let's put some titles to the columns and encode the date so that we could easily interpret the data. "
   ]
  },
  {
   "cell_type": "code",
<<<<<<< HEAD
   "execution_count": null,
   "metadata": {},
   "outputs": [],
=======
   "execution_count": 6,
   "metadata": {},
   "outputs": [
    {
     "data": {
      "text/html": [
       "<div>\n",
       "<style scoped>\n",
       "    .dataframe tbody tr th:only-of-type {\n",
       "        vertical-align: middle;\n",
       "    }\n",
       "\n",
       "    .dataframe tbody tr th {\n",
       "        vertical-align: top;\n",
       "    }\n",
       "\n",
       "    .dataframe thead th {\n",
       "        text-align: right;\n",
       "    }\n",
       "</style>\n",
       "<table border=\"1\" class=\"dataframe\">\n",
       "  <thead>\n",
       "    <tr style=\"text-align: right;\">\n",
       "      <th></th>\n",
       "      <th>TimeStamp</th>\n",
       "      <th>PriceUSD</th>\n",
       "      <th>Volume</th>\n",
       "    </tr>\n",
       "  </thead>\n",
       "  <tbody>\n",
       "    <tr>\n",
       "      <th>0</th>\n",
       "      <td>1417412423</td>\n",
       "      <td>300.00</td>\n",
       "      <td>0.010000</td>\n",
       "    </tr>\n",
       "    <tr>\n",
       "      <th>1</th>\n",
       "      <td>1417415048</td>\n",
       "      <td>370.00</td>\n",
       "      <td>0.010000</td>\n",
       "    </tr>\n",
       "    <tr>\n",
       "      <th>2</th>\n",
       "      <td>1417416612</td>\n",
       "      <td>370.00</td>\n",
       "      <td>0.026556</td>\n",
       "    </tr>\n",
       "    <tr>\n",
       "      <th>3</th>\n",
       "      <td>1417498166</td>\n",
       "      <td>377.00</td>\n",
       "      <td>0.010000</td>\n",
       "    </tr>\n",
       "    <tr>\n",
       "      <th>4</th>\n",
       "      <td>1417517949</td>\n",
       "      <td>377.75</td>\n",
       "      <td>0.250000</td>\n",
       "    </tr>\n",
       "  </tbody>\n",
       "</table>\n",
       "</div>"
      ],
      "text/plain": [
       "    TimeStamp  PriceUSD    Volume\n",
       "0  1417412423    300.00  0.010000\n",
       "1  1417415048    370.00  0.010000\n",
       "2  1417416612    370.00  0.026556\n",
       "3  1417498166    377.00  0.010000\n",
       "4  1417517949    377.75  0.250000"
      ]
     },
     "execution_count": 6,
     "metadata": {},
     "output_type": "execute_result"
    }
   ],
>>>>>>> 3a4f59586952e08990ad624db5adf4a2cf1c7e5b
   "source": [
    "# Adding column labels\n",
    "df.columns = ['TimeStamp', 'PriceUSD', 'Volume']\n",
    "df.head() # default n = 5"
   ]
  },
  {
   "cell_type": "code",
<<<<<<< HEAD
   "execution_count": null,
   "metadata": {},
   "outputs": [],
=======
   "execution_count": 7,
   "metadata": {},
   "outputs": [
    {
     "data": {
      "text/html": [
       "<div>\n",
       "<style scoped>\n",
       "    .dataframe tbody tr th:only-of-type {\n",
       "        vertical-align: middle;\n",
       "    }\n",
       "\n",
       "    .dataframe tbody tr th {\n",
       "        vertical-align: top;\n",
       "    }\n",
       "\n",
       "    .dataframe thead th {\n",
       "        text-align: right;\n",
       "    }\n",
       "</style>\n",
       "<table border=\"1\" class=\"dataframe\">\n",
       "  <thead>\n",
       "    <tr style=\"text-align: right;\">\n",
       "      <th></th>\n",
       "      <th>TimeStamp</th>\n",
       "      <th>PriceUSD</th>\n",
       "      <th>Volume</th>\n",
       "    </tr>\n",
       "    <tr>\n",
       "      <th>TimeStamp</th>\n",
       "      <th></th>\n",
       "      <th></th>\n",
       "      <th></th>\n",
       "    </tr>\n",
       "  </thead>\n",
       "  <tbody>\n",
       "    <tr>\n",
       "      <th>2014-12-01 05:40:23</th>\n",
       "      <td>2014-12-01 05:40:23</td>\n",
       "      <td>300.00</td>\n",
       "      <td>0.010000</td>\n",
       "    </tr>\n",
       "    <tr>\n",
       "      <th>2014-12-01 06:24:08</th>\n",
       "      <td>2014-12-01 06:24:08</td>\n",
       "      <td>370.00</td>\n",
       "      <td>0.010000</td>\n",
       "    </tr>\n",
       "    <tr>\n",
       "      <th>2014-12-01 06:50:12</th>\n",
       "      <td>2014-12-01 06:50:12</td>\n",
       "      <td>370.00</td>\n",
       "      <td>0.026556</td>\n",
       "    </tr>\n",
       "    <tr>\n",
       "      <th>2014-12-02 05:29:26</th>\n",
       "      <td>2014-12-02 05:29:26</td>\n",
       "      <td>377.00</td>\n",
       "      <td>0.010000</td>\n",
       "    </tr>\n",
       "    <tr>\n",
       "      <th>2014-12-02 10:59:09</th>\n",
       "      <td>2014-12-02 10:59:09</td>\n",
       "      <td>377.75</td>\n",
       "      <td>0.250000</td>\n",
       "    </tr>\n",
       "  </tbody>\n",
       "</table>\n",
       "</div>"
      ],
      "text/plain": [
       "                              TimeStamp  PriceUSD    Volume\n",
       "TimeStamp                                                  \n",
       "2014-12-01 05:40:23 2014-12-01 05:40:23    300.00  0.010000\n",
       "2014-12-01 06:24:08 2014-12-01 06:24:08    370.00  0.010000\n",
       "2014-12-01 06:50:12 2014-12-01 06:50:12    370.00  0.026556\n",
       "2014-12-02 05:29:26 2014-12-02 05:29:26    377.00  0.010000\n",
       "2014-12-02 10:59:09 2014-12-02 10:59:09    377.75  0.250000"
      ]
     },
     "execution_count": 7,
     "metadata": {},
     "output_type": "execute_result"
    }
   ],
>>>>>>> 3a4f59586952e08990ad624db5adf4a2cf1c7e5b
   "source": [
    "# Encode the date and replace the index by the date\n",
    "df.TimeStamp= pd.to_datetime(df['TimeStamp'], unit='s')\n",
    "\n",
    "# Change the index with the encoded date\n",
    "df.index = df.TimeStamp\n",
    "\n",
    "# Show the data just for checking\n",
    "df.head()"
   ]
  },
  {
   "cell_type": "markdown",
   "metadata": {},
   "source": [
    "Now that we have the data organized, we will group them by day, month, year to see the trends."
   ]
  },
  {
   "cell_type": "code",
<<<<<<< HEAD
   "execution_count": null,
   "metadata": {
    "collapsed": true
   },
=======
   "execution_count": 8,
   "metadata": {},
>>>>>>> 3a4f59586952e08990ad624db5adf4a2cf1c7e5b
   "outputs": [],
   "source": [
    "# Group by day\n",
    "df_day = df.resample('D').mean()\n",
    "\n",
    "# Group by month\n",
    "df_month = df.resample('M').mean()\n",
    "\n",
    "# Group by year\n",
    "df_year = df.resample('Y').mean()"
   ]
  },
  {
   "cell_type": "markdown",
   "metadata": {},
   "source": [
    "Let's check each of the resampled data."
   ]
  },
  {
   "cell_type": "code",
<<<<<<< HEAD
   "execution_count": null,
   "metadata": {},
   "outputs": [],
=======
   "execution_count": 9,
   "metadata": {},
   "outputs": [
    {
     "data": {
      "text/html": [
       "<div>\n",
       "<style scoped>\n",
       "    .dataframe tbody tr th:only-of-type {\n",
       "        vertical-align: middle;\n",
       "    }\n",
       "\n",
       "    .dataframe tbody tr th {\n",
       "        vertical-align: top;\n",
       "    }\n",
       "\n",
       "    .dataframe thead th {\n",
       "        text-align: right;\n",
       "    }\n",
       "</style>\n",
       "<table border=\"1\" class=\"dataframe\">\n",
       "  <thead>\n",
       "    <tr style=\"text-align: right;\">\n",
       "      <th></th>\n",
       "      <th>PriceUSD</th>\n",
       "      <th>Volume</th>\n",
       "    </tr>\n",
       "    <tr>\n",
       "      <th>TimeStamp</th>\n",
       "      <th></th>\n",
       "      <th></th>\n",
       "    </tr>\n",
       "  </thead>\n",
       "  <tbody>\n",
       "    <tr>\n",
       "      <th>2014-12-01</th>\n",
       "      <td>346.666667</td>\n",
       "      <td>0.015519</td>\n",
       "    </tr>\n",
       "    <tr>\n",
       "      <th>2014-12-02</th>\n",
       "      <td>377.843750</td>\n",
       "      <td>1.876700</td>\n",
       "    </tr>\n",
       "    <tr>\n",
       "      <th>2014-12-03</th>\n",
       "      <td>377.818333</td>\n",
       "      <td>0.091101</td>\n",
       "    </tr>\n",
       "    <tr>\n",
       "      <th>2014-12-04</th>\n",
       "      <td>377.100000</td>\n",
       "      <td>0.010000</td>\n",
       "    </tr>\n",
       "    <tr>\n",
       "      <th>2014-12-05</th>\n",
       "      <td>NaN</td>\n",
       "      <td>NaN</td>\n",
       "    </tr>\n",
       "    <tr>\n",
       "      <th>2014-12-06</th>\n",
       "      <td>378.000000</td>\n",
       "      <td>0.015000</td>\n",
       "    </tr>\n",
       "    <tr>\n",
       "      <th>2014-12-07</th>\n",
       "      <td>NaN</td>\n",
       "      <td>NaN</td>\n",
       "    </tr>\n",
       "    <tr>\n",
       "      <th>2014-12-08</th>\n",
       "      <td>375.005000</td>\n",
       "      <td>0.117500</td>\n",
       "    </tr>\n",
       "    <tr>\n",
       "      <th>2014-12-09</th>\n",
       "      <td>NaN</td>\n",
       "      <td>NaN</td>\n",
       "    </tr>\n",
       "    <tr>\n",
       "      <th>2014-12-10</th>\n",
       "      <td>379.250000</td>\n",
       "      <td>0.010000</td>\n",
       "    </tr>\n",
       "  </tbody>\n",
       "</table>\n",
       "</div>"
      ],
      "text/plain": [
       "              PriceUSD    Volume\n",
       "TimeStamp                       \n",
       "2014-12-01  346.666667  0.015519\n",
       "2014-12-02  377.843750  1.876700\n",
       "2014-12-03  377.818333  0.091101\n",
       "2014-12-04  377.100000  0.010000\n",
       "2014-12-05         NaN       NaN\n",
       "2014-12-06  378.000000  0.015000\n",
       "2014-12-07         NaN       NaN\n",
       "2014-12-08  375.005000  0.117500\n",
       "2014-12-09         NaN       NaN\n",
       "2014-12-10  379.250000  0.010000"
      ]
     },
     "execution_count": 9,
     "metadata": {},
     "output_type": "execute_result"
    }
   ],
>>>>>>> 3a4f59586952e08990ad624db5adf4a2cf1c7e5b
   "source": [
    "df_day.head(10)"
   ]
  },
  {
   "cell_type": "code",
<<<<<<< HEAD
   "execution_count": null,
   "metadata": {},
   "outputs": [],
=======
   "execution_count": 10,
   "metadata": {},
   "outputs": [
    {
     "data": {
      "text/html": [
       "<div>\n",
       "<style scoped>\n",
       "    .dataframe tbody tr th:only-of-type {\n",
       "        vertical-align: middle;\n",
       "    }\n",
       "\n",
       "    .dataframe tbody tr th {\n",
       "        vertical-align: top;\n",
       "    }\n",
       "\n",
       "    .dataframe thead th {\n",
       "        text-align: right;\n",
       "    }\n",
       "</style>\n",
       "<table border=\"1\" class=\"dataframe\">\n",
       "  <thead>\n",
       "    <tr style=\"text-align: right;\">\n",
       "      <th></th>\n",
       "      <th>PriceUSD</th>\n",
       "      <th>Volume</th>\n",
       "    </tr>\n",
       "    <tr>\n",
       "      <th>TimeStamp</th>\n",
       "      <th></th>\n",
       "      <th></th>\n",
       "    </tr>\n",
       "  </thead>\n",
       "  <tbody>\n",
       "    <tr>\n",
       "      <th>2014-12-31</th>\n",
       "      <td>369.758667</td>\n",
       "      <td>0.701225</td>\n",
       "    </tr>\n",
       "    <tr>\n",
       "      <th>2015-01-31</th>\n",
       "      <td>240.810146</td>\n",
       "      <td>0.816935</td>\n",
       "    </tr>\n",
       "    <tr>\n",
       "      <th>2015-02-28</th>\n",
       "      <td>236.607541</td>\n",
       "      <td>0.638448</td>\n",
       "    </tr>\n",
       "    <tr>\n",
       "      <th>2015-03-31</th>\n",
       "      <td>271.115614</td>\n",
       "      <td>0.525017</td>\n",
       "    </tr>\n",
       "    <tr>\n",
       "      <th>2015-04-30</th>\n",
       "      <td>235.304800</td>\n",
       "      <td>0.620728</td>\n",
       "    </tr>\n",
       "    <tr>\n",
       "      <th>2015-05-31</th>\n",
       "      <td>237.432032</td>\n",
       "      <td>0.439390</td>\n",
       "    </tr>\n",
       "    <tr>\n",
       "      <th>2015-06-30</th>\n",
       "      <td>239.497082</td>\n",
       "      <td>0.362127</td>\n",
       "    </tr>\n",
       "    <tr>\n",
       "      <th>2015-07-31</th>\n",
       "      <td>280.393456</td>\n",
       "      <td>0.366728</td>\n",
       "    </tr>\n",
       "    <tr>\n",
       "      <th>2015-08-31</th>\n",
       "      <td>242.787177</td>\n",
       "      <td>0.556696</td>\n",
       "    </tr>\n",
       "    <tr>\n",
       "      <th>2015-09-30</th>\n",
       "      <td>234.440229</td>\n",
       "      <td>0.654104</td>\n",
       "    </tr>\n",
       "  </tbody>\n",
       "</table>\n",
       "</div>"
      ],
      "text/plain": [
       "              PriceUSD    Volume\n",
       "TimeStamp                       \n",
       "2014-12-31  369.758667  0.701225\n",
       "2015-01-31  240.810146  0.816935\n",
       "2015-02-28  236.607541  0.638448\n",
       "2015-03-31  271.115614  0.525017\n",
       "2015-04-30  235.304800  0.620728\n",
       "2015-05-31  237.432032  0.439390\n",
       "2015-06-30  239.497082  0.362127\n",
       "2015-07-31  280.393456  0.366728\n",
       "2015-08-31  242.787177  0.556696\n",
       "2015-09-30  234.440229  0.654104"
      ]
     },
     "execution_count": 10,
     "metadata": {},
     "output_type": "execute_result"
    }
   ],
>>>>>>> 3a4f59586952e08990ad624db5adf4a2cf1c7e5b
   "source": [
    "df_month.head(10)"
   ]
  },
  {
   "cell_type": "code",
<<<<<<< HEAD
   "execution_count": null,
   "metadata": {},
   "outputs": [],
=======
   "execution_count": 11,
   "metadata": {},
   "outputs": [
    {
     "data": {
      "text/html": [
       "<div>\n",
       "<style scoped>\n",
       "    .dataframe tbody tr th:only-of-type {\n",
       "        vertical-align: middle;\n",
       "    }\n",
       "\n",
       "    .dataframe tbody tr th {\n",
       "        vertical-align: top;\n",
       "    }\n",
       "\n",
       "    .dataframe thead th {\n",
       "        text-align: right;\n",
       "    }\n",
       "</style>\n",
       "<table border=\"1\" class=\"dataframe\">\n",
       "  <thead>\n",
       "    <tr style=\"text-align: right;\">\n",
       "      <th></th>\n",
       "      <th>PriceUSD</th>\n",
       "      <th>Volume</th>\n",
       "    </tr>\n",
       "    <tr>\n",
       "      <th>TimeStamp</th>\n",
       "      <th></th>\n",
       "      <th></th>\n",
       "    </tr>\n",
       "  </thead>\n",
       "  <tbody>\n",
       "    <tr>\n",
       "      <th>2014-12-31</th>\n",
       "      <td>369.758667</td>\n",
       "      <td>0.701225</td>\n",
       "    </tr>\n",
       "    <tr>\n",
       "      <th>2015-12-31</th>\n",
       "      <td>294.751687</td>\n",
       "      <td>0.505218</td>\n",
       "    </tr>\n",
       "    <tr>\n",
       "      <th>2016-12-31</th>\n",
       "      <td>548.863027</td>\n",
       "      <td>0.349129</td>\n",
       "    </tr>\n",
       "    <tr>\n",
       "      <th>2017-12-31</th>\n",
       "      <td>7303.041356</td>\n",
       "      <td>0.291545</td>\n",
       "    </tr>\n",
       "    <tr>\n",
       "      <th>2018-12-31</th>\n",
       "      <td>11559.966305</td>\n",
       "      <td>0.201006</td>\n",
       "    </tr>\n",
       "  </tbody>\n",
       "</table>\n",
       "</div>"
      ],
      "text/plain": [
       "                PriceUSD    Volume\n",
       "TimeStamp                         \n",
       "2014-12-31    369.758667  0.701225\n",
       "2015-12-31    294.751687  0.505218\n",
       "2016-12-31    548.863027  0.349129\n",
       "2017-12-31   7303.041356  0.291545\n",
       "2018-12-31  11559.966305  0.201006"
      ]
     },
     "execution_count": 11,
     "metadata": {},
     "output_type": "execute_result"
    }
   ],
>>>>>>> 3a4f59586952e08990ad624db5adf4a2cf1c7e5b
   "source": [
    "df_year.head(10)"
   ]
  },
  {
   "cell_type": "markdown",
   "metadata": {},
   "source": [
    "Now you see that there's some missing day transactions in df_day and we will be removing the day with Nans. Note that there's only 5 rows in df_year since the bitcoin transaction on coinbase started in 2014. It's kind of amazing that this crypto currency stuff have gained so much popularity and money flowing in considering the fact that it only appeared less than 10 years ago."
   ]
  },
  {
   "cell_type": "code",
<<<<<<< HEAD
   "execution_count": null,
   "metadata": {},
   "outputs": [],
=======
   "execution_count": 12,
   "metadata": {},
   "outputs": [
    {
     "data": {
      "text/html": [
       "<div>\n",
       "<style scoped>\n",
       "    .dataframe tbody tr th:only-of-type {\n",
       "        vertical-align: middle;\n",
       "    }\n",
       "\n",
       "    .dataframe tbody tr th {\n",
       "        vertical-align: top;\n",
       "    }\n",
       "\n",
       "    .dataframe thead th {\n",
       "        text-align: right;\n",
       "    }\n",
       "</style>\n",
       "<table border=\"1\" class=\"dataframe\">\n",
       "  <thead>\n",
       "    <tr style=\"text-align: right;\">\n",
       "      <th></th>\n",
       "      <th>PriceUSD</th>\n",
       "      <th>Volume</th>\n",
       "    </tr>\n",
       "    <tr>\n",
       "      <th>TimeStamp</th>\n",
       "      <th></th>\n",
       "      <th></th>\n",
       "    </tr>\n",
       "  </thead>\n",
       "  <tbody>\n",
       "    <tr>\n",
       "      <th>2014-12-01</th>\n",
       "      <td>346.666667</td>\n",
       "      <td>0.015519</td>\n",
       "    </tr>\n",
       "    <tr>\n",
       "      <th>2014-12-02</th>\n",
       "      <td>377.843750</td>\n",
       "      <td>1.876700</td>\n",
       "    </tr>\n",
       "    <tr>\n",
       "      <th>2014-12-03</th>\n",
       "      <td>377.818333</td>\n",
       "      <td>0.091101</td>\n",
       "    </tr>\n",
       "    <tr>\n",
       "      <th>2014-12-04</th>\n",
       "      <td>377.100000</td>\n",
       "      <td>0.010000</td>\n",
       "    </tr>\n",
       "    <tr>\n",
       "      <th>2014-12-06</th>\n",
       "      <td>378.000000</td>\n",
       "      <td>0.015000</td>\n",
       "    </tr>\n",
       "    <tr>\n",
       "      <th>2014-12-08</th>\n",
       "      <td>375.005000</td>\n",
       "      <td>0.117500</td>\n",
       "    </tr>\n",
       "    <tr>\n",
       "      <th>2014-12-10</th>\n",
       "      <td>379.250000</td>\n",
       "      <td>0.010000</td>\n",
       "    </tr>\n",
       "    <tr>\n",
       "      <th>2014-12-12</th>\n",
       "      <td>362.898000</td>\n",
       "      <td>0.630000</td>\n",
       "    </tr>\n",
       "    <tr>\n",
       "      <th>2014-12-18</th>\n",
       "      <td>342.500000</td>\n",
       "      <td>1.000000</td>\n",
       "    </tr>\n",
       "    <tr>\n",
       "      <th>2015-01-08</th>\n",
       "      <td>295.146504</td>\n",
       "      <td>0.010078</td>\n",
       "    </tr>\n",
       "  </tbody>\n",
       "</table>\n",
       "</div>"
      ],
      "text/plain": [
       "              PriceUSD    Volume\n",
       "TimeStamp                       \n",
       "2014-12-01  346.666667  0.015519\n",
       "2014-12-02  377.843750  1.876700\n",
       "2014-12-03  377.818333  0.091101\n",
       "2014-12-04  377.100000  0.010000\n",
       "2014-12-06  378.000000  0.015000\n",
       "2014-12-08  375.005000  0.117500\n",
       "2014-12-10  379.250000  0.010000\n",
       "2014-12-12  362.898000  0.630000\n",
       "2014-12-18  342.500000  1.000000\n",
       "2015-01-08  295.146504  0.010078"
      ]
     },
     "execution_count": 12,
     "metadata": {},
     "output_type": "execute_result"
    }
   ],
>>>>>>> 3a4f59586952e08990ad624db5adf4a2cf1c7e5b
   "source": [
    "# Removing the rows with Nans\n",
    "df_day = df_day.dropna()\n",
    "df_day.head(10)"
   ]
  },
  {
   "cell_type": "markdown",
   "metadata": {},
   "source": [
    "As a last step in checking the datasets, let's visualize our data and then move on to predicting bitcoin prices by day."
   ]
  },
  {
   "cell_type": "code",
<<<<<<< HEAD
   "execution_count": null,
   "metadata": {
    "scrolled": false
   },
   "outputs": [],
=======
   "execution_count": 13,
   "metadata": {},
   "outputs": [
    {
     "data": {
      "text/plain": [
       "<matplotlib.text.Text at 0x2202390e320>"
      ]
     },
     "execution_count": 13,
     "metadata": {},
     "output_type": "execute_result"
    },
    {
     "data": {
      "image/png": "iVBORw0KGgoAAAANSUhEUgAAAuwAAAIBCAYAAAAS+uqgAAAABHNCSVQICAgIfAhkiAAAAAlwSFlz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\nREREJMMU2EVEREREMuz/AW8U9BPotbD7AAAAAElFTkSuQmCC\n",
      "text/plain": [
       "<matplotlib.figure.Figure at 0x2201ed6c080>"
      ]
     },
     "metadata": {},
     "output_type": "display_data"
    }
   ],
>>>>>>> 3a4f59586952e08990ad624db5adf4a2cf1c7e5b
   "source": [
    "# Visualizing the data\n",
    "fig = plt.figure()\n",
    "\n",
    "# Day\n",
    "plt.subplot(311)\n",
    "plt.plot(df_day.PriceUSD, '-', label='By Days')\n",
    "plt.title('Bitcoin price from Coinbase in USD', fontsize=24)\n",
    "\n",
    "# Month\n",
    "plt.subplot(312)\n",
    "plt.plot(df_month.PriceUSD, '-', label='By Months')\n",
    "plt.ylabel('Bitcoin Price in USD', fontsize=18)\n",
    "\n",
    "# Year\n",
    "plt.subplot(313)\n",
    "plt.plot(df_year.PriceUSD, '-', label='By Years')\n",
    "plt.xlabel('Time', fontsize=18)"
   ]
  },
  {
   "cell_type": "markdown",
   "metadata": {},
   "source": [
<<<<<<< HEAD
    "As you can see from the graph, from 2014 to 2016, there's not much price change, so I will be only considering the data from the beginning of 2016."
=======
    "As you can see from the graph, from 2014 to the end of 2016, there's not much price change, so I will be only considering the data from the beginning of 2017."
>>>>>>> 3a4f59586952e08990ad624db5adf4a2cf1c7e5b
   ]
  },
  {
   "cell_type": "code",
<<<<<<< HEAD
   "execution_count": null,
   "metadata": {},
   "outputs": [],
   "source": [
    "# The data we are going to use for prediction\n",
    "data = df_day[(df_day.index > '2016-01-01')]\n",
    "\n",
    "# Check the shape of the data that we are using\n",
    "print('Data shape: ',data.shape)"
   ]
  },
  {
   "cell_type": "markdown",
   "metadata": {},
   "source": [
    "Let's divide the data into training and testing sets. We will be using 90% of the data as training and the rest as testing. Also, note that the target data labels for training will be one sample ahead of the training samples. In other words, we will be using a previous sample to predict the next sample."
   ]
  },
  {
   "cell_type": "code",
   "execution_count": null,
   "metadata": {},
   "outputs": [],
   "source": [
    "# Total length of the data set\n",
    "tot_len = data.shape[0]\n",
    "\n",
    "# Divide the data into training and testing sets\n",
    "train_data = data.PriceUSD[:np.int(tot_len*0.9)]\n",
    "test_data = data.PriceUSD[np.int(tot_len*0.9):]\n",
    "train_target = data.PriceUSD[1:np.int(tot_len*0.9)+1]\n",
    "\n",
    "# Just for checking the dimensions\n",
    "print('Train data shape:',train_data.shape)\n",
    "print('Test data shape:',test_data.shape)\n",
    "print('Train target shape:',train_target.shape)"
=======
   "execution_count": 14,
   "metadata": {},
   "outputs": [
    {
     "name": "stdout",
     "output_type": "stream",
     "text": [
      "(404, 2)\n"
     ]
    }
   ],
   "source": [
    "# The data we are going to use for prediction\n",
    "train_data = df_day[(df_day.index > '2017-01-01')]\n",
    "\n",
    "# Check the shape of the data that we are using\n",
    "print(train_data.shape)"
>>>>>>> 3a4f59586952e08990ad624db5adf4a2cf1c7e5b
   ]
  },
  {
   "cell_type": "markdown",
   "metadata": {},
   "source": [
    "## Define tensorflow graph\n",
    "\n",
<<<<<<< HEAD
    "From here, we are going to construct tensorflow graph of RNN (Recurrent Neural Network) model.\n",
    "\n",
    "First, let's define variables and placeholders."
   ]
  },
  {
   "cell_type": "code",
   "execution_count": null,
   "metadata": {
    "collapsed": true
   },
   "outputs": [],
   "source": [
    "# Defining variables\n",
    "# NUM_HIDDEN is a number of hidden units in a hidden layer\n",
    "W = tf.get_variable(name=\"W\", shape=[NUM_HIDDEN, 1], initializer=tf.contrib.layers.xavier_initializer())\n",
    "b = tf.get_variable(name=\"b\", initializer=tf.constant(np.random.rand(1, 1)))\n",
    "\n",
    "# Defining placeholders\n",
    "# Note that each time we are feeding only one bitcoin price data and predicting the next one sample\n",
    "X = tf.placeholder(tf.float32, shape=[None, 1], name=\"Input_X\")\n",
    "Y = tf.placeholder(tf.float32, shape=[None, 1], name=\"Target_Y\")"
   ]
  },
  {
   "cell_type": "markdown",
   "metadata": {},
   "source": [
    "### RNN model\n",
    "\n",
    "Now since we have defined the variables and placeholders, let's start making the RNN model."
=======
    "Tensorflow requires you to construct and computation graph first with placeholders and variables (to be optimized) before actually calculating the predictions. If you want to know more about the computational graph and classes used here, please refer to the official document [here](https://www.tensorflow.org/get_started/get_started).\n"
>>>>>>> 3a4f59586952e08990ad624db5adf4a2cf1c7e5b
   ]
  },
  {
   "cell_type": "code",
   "execution_count": null,
   "metadata": {
    "collapsed": true
   },
   "outputs": [],
   "source": []
  }
 ],
 "metadata": {
  "kernelspec": {
   "display_name": "Python 3",
   "language": "python",
   "name": "python3"
  },
  "language_info": {
   "codemirror_mode": {
    "name": "ipython",
    "version": 3
   },
   "file_extension": ".py",
   "mimetype": "text/x-python",
   "name": "python",
   "nbconvert_exporter": "python",
   "pygments_lexer": "ipython3",
<<<<<<< HEAD
   "version": "3.6.3"
=======
   "version": "3.5.4"
>>>>>>> 3a4f59586952e08990ad624db5adf4a2cf1c7e5b
  }
 },
 "nbformat": 4,
 "nbformat_minor": 2
}

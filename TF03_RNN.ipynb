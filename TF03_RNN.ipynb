{
 "cells": [
  {
   "cell_type": "markdown",
   "metadata": {},
   "source": [
    "# Tensorflow implementation 03: RNN\n",
    "\n",
    "by [Sho Nakagome](https://github.com/shonaka)\n",
    "\n",
    "This jupyter notebook is intended to implement a simple RNN (Recurrent Neural Network) model on predicting sequential time series. For the data, we will be using Bitcoin historical price data available [here](http://api.bitcoincharts.com/v1/csv/).\n",
    "\n",
    "RNN is more suitable to be used when trained with sequential data (e.g. time series, voice recognition, stock prices, etc). In this jupyter notebook, we will focus on implemeting the RNN itself and I'll leave the explanation of its theory and algorithms to other sources on the internet."
   ]
  },
  {
   "cell_type": "markdown",
   "metadata": {},
   "source": [
    "## Imports"
   ]
  },
  {
   "cell_type": "code",
   "execution_count": 1,
   "metadata": {},
   "outputs": [
    {
     "name": "stderr",
     "output_type": "stream",
     "text": [
      "/home/snakagom/anaconda3/lib/python3.6/site-packages/h5py/__init__.py:34: FutureWarning: Conversion of the second argument of issubdtype from `float` to `np.floating` is deprecated. In future, it will be treated as `np.float64 == np.dtype(float).type`.\n",
      "  from ._conv import register_converters as _register_converters\n"
     ]
    }
   ],
   "source": [
    "import tensorflow as tf\n",
    "import tflearn\n",
    "import numpy as np\n",
    "import pandas as pd\n",
    "import math\n",
    "import matplotlib.pyplot as plt\n",
    "# Just for visualization in jupyter notebook purposes\n",
    "%matplotlib inline\n",
    "plt.rcParams['figure.figsize'] = (12, 8)"
   ]
  },
  {
   "cell_type": "markdown",
   "metadata": {},
   "source": [
    "Programming environment: Python 3.6 (Anaconda)"
   ]
  },
  {
   "cell_type": "code",
   "execution_count": 2,
   "metadata": {},
   "outputs": [
    {
     "data": {
      "text/plain": [
       "'1.5.0'"
      ]
     },
     "execution_count": 2,
     "metadata": {},
     "output_type": "execute_result"
    }
   ],
   "source": [
    "tf.__version__"
   ]
  },
  {
   "cell_type": "markdown",
   "metadata": {},
   "source": [
    "## Define global variables\n",
    "\n",
    "Let's define some global variables to be used in the code. Don't worry about this for now since we will be describing these in the later part of the notebooks when these appear."
   ]
  },
  {
   "cell_type": "code",
   "execution_count": 3,
   "metadata": {
    "collapsed": true
   },
   "outputs": [],
   "source": [
    "# RNN related\n",
    "NUM_HIDDEN = 32  # Number of hidden units in a hidden layer\n",
    "\n",
    "# Optimization related\n",
    "LEARNING_RATE = 1e-4\n",
    "BATCH_SIZE = 32  # Better to have a batch size 2^n\n",
    "NUM_EPOCHS = 100"
   ]
  },
  {
   "cell_type": "markdown",
   "metadata": {},
   "source": [
    "## Import data and checking the dataset"
   ]
  },
  {
   "cell_type": "markdown",
   "metadata": {},
   "source": [
    "We will be importing data using pandas. [Pandas](https://pandas.pydata.org/) is a very good library to handle data structures and processing, like the .csv file we are going to use in this notebook. To know more about the library, go check the website linked in the beginning of this sentence."
   ]
  },
  {
   "cell_type": "code",
   "execution_count": 4,
   "metadata": {
    "collapsed": true
   },
   "outputs": [],
   "source": [
    "# Load the data\n",
    "df = pd.read_csv('data/.coinbaseUSD.csv')"
   ]
  },
  {
   "cell_type": "markdown",
   "metadata": {},
   "source": [
    "Since the .csv file is a little over 150MB, it might take a while.\n",
    "\n",
    "Once the loading is done, let's check the dataset a bit."
   ]
  },
  {
   "cell_type": "code",
   "execution_count": 5,
   "metadata": {},
   "outputs": [
    {
     "data": {
      "text/html": [
       "<div>\n",
       "<style>\n",
       "    .dataframe thead tr:only-child th {\n",
       "        text-align: right;\n",
       "    }\n",
       "\n",
       "    .dataframe thead th {\n",
       "        text-align: left;\n",
       "    }\n",
       "\n",
       "    .dataframe tbody tr th {\n",
       "        vertical-align: top;\n",
       "    }\n",
       "</style>\n",
       "<table border=\"1\" class=\"dataframe\">\n",
       "  <thead>\n",
       "    <tr style=\"text-align: right;\">\n",
       "      <th></th>\n",
       "      <th>1417412036</th>\n",
       "      <th>300.000000000000</th>\n",
       "      <th>0.010000000000</th>\n",
       "    </tr>\n",
       "  </thead>\n",
       "  <tbody>\n",
       "    <tr>\n",
       "      <th>0</th>\n",
       "      <td>1417412423</td>\n",
       "      <td>300.00</td>\n",
       "      <td>0.010000</td>\n",
       "    </tr>\n",
       "    <tr>\n",
       "      <th>1</th>\n",
       "      <td>1417415048</td>\n",
       "      <td>370.00</td>\n",
       "      <td>0.010000</td>\n",
       "    </tr>\n",
       "    <tr>\n",
       "      <th>2</th>\n",
       "      <td>1417416612</td>\n",
       "      <td>370.00</td>\n",
       "      <td>0.026556</td>\n",
       "    </tr>\n",
       "    <tr>\n",
       "      <th>3</th>\n",
       "      <td>1417498166</td>\n",
       "      <td>377.00</td>\n",
       "      <td>0.010000</td>\n",
       "    </tr>\n",
       "    <tr>\n",
       "      <th>4</th>\n",
       "      <td>1417517949</td>\n",
       "      <td>377.75</td>\n",
       "      <td>0.250000</td>\n",
       "    </tr>\n",
       "    <tr>\n",
       "      <th>5</th>\n",
       "      <td>1417517949</td>\n",
       "      <td>378.00</td>\n",
       "      <td>3.750000</td>\n",
       "    </tr>\n",
       "    <tr>\n",
       "      <th>6</th>\n",
       "      <td>1417518257</td>\n",
       "      <td>378.00</td>\n",
       "      <td>4.900000</td>\n",
       "    </tr>\n",
       "    <tr>\n",
       "      <th>7</th>\n",
       "      <td>1417518340</td>\n",
       "      <td>378.00</td>\n",
       "      <td>5.200000</td>\n",
       "    </tr>\n",
       "    <tr>\n",
       "      <th>8</th>\n",
       "      <td>1417545780</td>\n",
       "      <td>378.00</td>\n",
       "      <td>0.100000</td>\n",
       "    </tr>\n",
       "    <tr>\n",
       "      <th>9</th>\n",
       "      <td>1417546703</td>\n",
       "      <td>378.00</td>\n",
       "      <td>0.793600</td>\n",
       "    </tr>\n",
       "  </tbody>\n",
       "</table>\n",
       "</div>"
      ],
      "text/plain": [
       "   1417412036  300.000000000000  0.010000000000\n",
       "0  1417412423            300.00        0.010000\n",
       "1  1417415048            370.00        0.010000\n",
       "2  1417416612            370.00        0.026556\n",
       "3  1417498166            377.00        0.010000\n",
       "4  1417517949            377.75        0.250000\n",
       "5  1417517949            378.00        3.750000\n",
       "6  1417518257            378.00        4.900000\n",
       "7  1417518340            378.00        5.200000\n",
       "8  1417545780            378.00        0.100000\n",
       "9  1417546703            378.00        0.793600"
      ]
     },
     "execution_count": 5,
     "metadata": {},
     "output_type": "execute_result"
    }
   ],
   "source": [
    "# Show the first n = 10 rows\n",
    "df.head(10)"
   ]
  },
  {
   "cell_type": "markdown",
   "metadata": {},
   "source": [
    "As you could see, the data is a little difficult to decipher. Let's put some titles to the columns and encode the date so that we could easily interpret the data. "
   ]
  },
  {
   "cell_type": "code",
   "execution_count": 6,
   "metadata": {},
   "outputs": [
    {
     "data": {
      "text/html": [
       "<div>\n",
       "<style>\n",
       "    .dataframe thead tr:only-child th {\n",
       "        text-align: right;\n",
       "    }\n",
       "\n",
       "    .dataframe thead th {\n",
       "        text-align: left;\n",
       "    }\n",
       "\n",
       "    .dataframe tbody tr th {\n",
       "        vertical-align: top;\n",
       "    }\n",
       "</style>\n",
       "<table border=\"1\" class=\"dataframe\">\n",
       "  <thead>\n",
       "    <tr style=\"text-align: right;\">\n",
       "      <th></th>\n",
       "      <th>TimeStamp</th>\n",
       "      <th>PriceUSD</th>\n",
       "      <th>Volume</th>\n",
       "    </tr>\n",
       "  </thead>\n",
       "  <tbody>\n",
       "    <tr>\n",
       "      <th>0</th>\n",
       "      <td>1417412423</td>\n",
       "      <td>300.00</td>\n",
       "      <td>0.010000</td>\n",
       "    </tr>\n",
       "    <tr>\n",
       "      <th>1</th>\n",
       "      <td>1417415048</td>\n",
       "      <td>370.00</td>\n",
       "      <td>0.010000</td>\n",
       "    </tr>\n",
       "    <tr>\n",
       "      <th>2</th>\n",
       "      <td>1417416612</td>\n",
       "      <td>370.00</td>\n",
       "      <td>0.026556</td>\n",
       "    </tr>\n",
       "    <tr>\n",
       "      <th>3</th>\n",
       "      <td>1417498166</td>\n",
       "      <td>377.00</td>\n",
       "      <td>0.010000</td>\n",
       "    </tr>\n",
       "    <tr>\n",
       "      <th>4</th>\n",
       "      <td>1417517949</td>\n",
       "      <td>377.75</td>\n",
       "      <td>0.250000</td>\n",
       "    </tr>\n",
       "  </tbody>\n",
       "</table>\n",
       "</div>"
      ],
      "text/plain": [
       "    TimeStamp  PriceUSD    Volume\n",
       "0  1417412423    300.00  0.010000\n",
       "1  1417415048    370.00  0.010000\n",
       "2  1417416612    370.00  0.026556\n",
       "3  1417498166    377.00  0.010000\n",
       "4  1417517949    377.75  0.250000"
      ]
     },
     "execution_count": 6,
     "metadata": {},
     "output_type": "execute_result"
    }
   ],
   "source": [
    "# Adding column labels\n",
    "df.columns = ['TimeStamp', 'PriceUSD', 'Volume']\n",
    "df.head() # default n = 5"
   ]
  },
  {
   "cell_type": "code",
   "execution_count": 7,
   "metadata": {},
   "outputs": [
    {
     "data": {
      "text/html": [
       "<div>\n",
       "<style>\n",
       "    .dataframe thead tr:only-child th {\n",
       "        text-align: right;\n",
       "    }\n",
       "\n",
       "    .dataframe thead th {\n",
       "        text-align: left;\n",
       "    }\n",
       "\n",
       "    .dataframe tbody tr th {\n",
       "        vertical-align: top;\n",
       "    }\n",
       "</style>\n",
       "<table border=\"1\" class=\"dataframe\">\n",
       "  <thead>\n",
       "    <tr style=\"text-align: right;\">\n",
       "      <th></th>\n",
       "      <th>TimeStamp</th>\n",
       "      <th>PriceUSD</th>\n",
       "      <th>Volume</th>\n",
       "    </tr>\n",
       "    <tr>\n",
       "      <th>TimeStamp</th>\n",
       "      <th></th>\n",
       "      <th></th>\n",
       "      <th></th>\n",
       "    </tr>\n",
       "  </thead>\n",
       "  <tbody>\n",
       "    <tr>\n",
       "      <th>2014-12-01 05:40:23</th>\n",
       "      <td>2014-12-01 05:40:23</td>\n",
       "      <td>300.00</td>\n",
       "      <td>0.010000</td>\n",
       "    </tr>\n",
       "    <tr>\n",
       "      <th>2014-12-01 06:24:08</th>\n",
       "      <td>2014-12-01 06:24:08</td>\n",
       "      <td>370.00</td>\n",
       "      <td>0.010000</td>\n",
       "    </tr>\n",
       "    <tr>\n",
       "      <th>2014-12-01 06:50:12</th>\n",
       "      <td>2014-12-01 06:50:12</td>\n",
       "      <td>370.00</td>\n",
       "      <td>0.026556</td>\n",
       "    </tr>\n",
       "    <tr>\n",
       "      <th>2014-12-02 05:29:26</th>\n",
       "      <td>2014-12-02 05:29:26</td>\n",
       "      <td>377.00</td>\n",
       "      <td>0.010000</td>\n",
       "    </tr>\n",
       "    <tr>\n",
       "      <th>2014-12-02 10:59:09</th>\n",
       "      <td>2014-12-02 10:59:09</td>\n",
       "      <td>377.75</td>\n",
       "      <td>0.250000</td>\n",
       "    </tr>\n",
       "  </tbody>\n",
       "</table>\n",
       "</div>"
      ],
      "text/plain": [
       "                              TimeStamp  PriceUSD    Volume\n",
       "TimeStamp                                                  \n",
       "2014-12-01 05:40:23 2014-12-01 05:40:23    300.00  0.010000\n",
       "2014-12-01 06:24:08 2014-12-01 06:24:08    370.00  0.010000\n",
       "2014-12-01 06:50:12 2014-12-01 06:50:12    370.00  0.026556\n",
       "2014-12-02 05:29:26 2014-12-02 05:29:26    377.00  0.010000\n",
       "2014-12-02 10:59:09 2014-12-02 10:59:09    377.75  0.250000"
      ]
     },
     "execution_count": 7,
     "metadata": {},
     "output_type": "execute_result"
    }
   ],
   "source": [
    "# Encode the date and replace the index by the date\n",
    "df.TimeStamp= pd.to_datetime(df['TimeStamp'], unit='s')\n",
    "\n",
    "# Change the index with the encoded date\n",
    "df.index = df.TimeStamp\n",
    "\n",
    "# Show the data just for checking\n",
    "df.head()"
   ]
  },
  {
   "cell_type": "markdown",
   "metadata": {},
   "source": [
    "Now that we have the data organized, we will group them by day and month to see the trends."
   ]
  },
  {
   "cell_type": "code",
   "execution_count": 8,
   "metadata": {
    "collapsed": true
   },
   "outputs": [],
   "source": [
    "# Group by day\n",
    "df_day = df.resample('D').mean()\n",
    "\n",
    "# Group by month\n",
    "df_month = df.resample('M').mean()"
   ]
  },
  {
   "cell_type": "markdown",
   "metadata": {},
   "source": [
    "Let's check each of the resampled data."
   ]
  },
  {
   "cell_type": "code",
   "execution_count": 9,
   "metadata": {},
   "outputs": [
    {
     "data": {
      "text/html": [
       "<div>\n",
       "<style>\n",
       "    .dataframe thead tr:only-child th {\n",
       "        text-align: right;\n",
       "    }\n",
       "\n",
       "    .dataframe thead th {\n",
       "        text-align: left;\n",
       "    }\n",
       "\n",
       "    .dataframe tbody tr th {\n",
       "        vertical-align: top;\n",
       "    }\n",
       "</style>\n",
       "<table border=\"1\" class=\"dataframe\">\n",
       "  <thead>\n",
       "    <tr style=\"text-align: right;\">\n",
       "      <th></th>\n",
       "      <th>PriceUSD</th>\n",
       "      <th>Volume</th>\n",
       "    </tr>\n",
       "    <tr>\n",
       "      <th>TimeStamp</th>\n",
       "      <th></th>\n",
       "      <th></th>\n",
       "    </tr>\n",
       "  </thead>\n",
       "  <tbody>\n",
       "    <tr>\n",
       "      <th>2014-12-01</th>\n",
       "      <td>346.666667</td>\n",
       "      <td>0.015519</td>\n",
       "    </tr>\n",
       "    <tr>\n",
       "      <th>2014-12-02</th>\n",
       "      <td>377.843750</td>\n",
       "      <td>1.876700</td>\n",
       "    </tr>\n",
       "    <tr>\n",
       "      <th>2014-12-03</th>\n",
       "      <td>377.818333</td>\n",
       "      <td>0.091101</td>\n",
       "    </tr>\n",
       "    <tr>\n",
       "      <th>2014-12-04</th>\n",
       "      <td>377.100000</td>\n",
       "      <td>0.010000</td>\n",
       "    </tr>\n",
       "    <tr>\n",
       "      <th>2014-12-05</th>\n",
       "      <td>NaN</td>\n",
       "      <td>NaN</td>\n",
       "    </tr>\n",
       "    <tr>\n",
       "      <th>2014-12-06</th>\n",
       "      <td>378.000000</td>\n",
       "      <td>0.015000</td>\n",
       "    </tr>\n",
       "    <tr>\n",
       "      <th>2014-12-07</th>\n",
       "      <td>NaN</td>\n",
       "      <td>NaN</td>\n",
       "    </tr>\n",
       "    <tr>\n",
       "      <th>2014-12-08</th>\n",
       "      <td>375.005000</td>\n",
       "      <td>0.117500</td>\n",
       "    </tr>\n",
       "    <tr>\n",
       "      <th>2014-12-09</th>\n",
       "      <td>NaN</td>\n",
       "      <td>NaN</td>\n",
       "    </tr>\n",
       "    <tr>\n",
       "      <th>2014-12-10</th>\n",
       "      <td>379.250000</td>\n",
       "      <td>0.010000</td>\n",
       "    </tr>\n",
       "  </tbody>\n",
       "</table>\n",
       "</div>"
      ],
      "text/plain": [
       "              PriceUSD    Volume\n",
       "TimeStamp                       \n",
       "2014-12-01  346.666667  0.015519\n",
       "2014-12-02  377.843750  1.876700\n",
       "2014-12-03  377.818333  0.091101\n",
       "2014-12-04  377.100000  0.010000\n",
       "2014-12-05         NaN       NaN\n",
       "2014-12-06  378.000000  0.015000\n",
       "2014-12-07         NaN       NaN\n",
       "2014-12-08  375.005000  0.117500\n",
       "2014-12-09         NaN       NaN\n",
       "2014-12-10  379.250000  0.010000"
      ]
     },
     "execution_count": 9,
     "metadata": {},
     "output_type": "execute_result"
    }
   ],
   "source": [
    "df_day.head(10)"
   ]
  },
  {
   "cell_type": "code",
   "execution_count": 10,
   "metadata": {},
   "outputs": [
    {
     "data": {
      "text/html": [
       "<div>\n",
       "<style>\n",
       "    .dataframe thead tr:only-child th {\n",
       "        text-align: right;\n",
       "    }\n",
       "\n",
       "    .dataframe thead th {\n",
       "        text-align: left;\n",
       "    }\n",
       "\n",
       "    .dataframe tbody tr th {\n",
       "        vertical-align: top;\n",
       "    }\n",
       "</style>\n",
       "<table border=\"1\" class=\"dataframe\">\n",
       "  <thead>\n",
       "    <tr style=\"text-align: right;\">\n",
       "      <th></th>\n",
       "      <th>PriceUSD</th>\n",
       "      <th>Volume</th>\n",
       "    </tr>\n",
       "    <tr>\n",
       "      <th>TimeStamp</th>\n",
       "      <th></th>\n",
       "      <th></th>\n",
       "    </tr>\n",
       "  </thead>\n",
       "  <tbody>\n",
       "    <tr>\n",
       "      <th>2014-12-31</th>\n",
       "      <td>369.758667</td>\n",
       "      <td>0.701225</td>\n",
       "    </tr>\n",
       "    <tr>\n",
       "      <th>2015-01-31</th>\n",
       "      <td>240.810146</td>\n",
       "      <td>0.816935</td>\n",
       "    </tr>\n",
       "    <tr>\n",
       "      <th>2015-02-28</th>\n",
       "      <td>236.607541</td>\n",
       "      <td>0.638448</td>\n",
       "    </tr>\n",
       "    <tr>\n",
       "      <th>2015-03-31</th>\n",
       "      <td>271.115614</td>\n",
       "      <td>0.525017</td>\n",
       "    </tr>\n",
       "    <tr>\n",
       "      <th>2015-04-30</th>\n",
       "      <td>235.304800</td>\n",
       "      <td>0.620728</td>\n",
       "    </tr>\n",
       "    <tr>\n",
       "      <th>2015-05-31</th>\n",
       "      <td>237.432032</td>\n",
       "      <td>0.439390</td>\n",
       "    </tr>\n",
       "    <tr>\n",
       "      <th>2015-06-30</th>\n",
       "      <td>239.497082</td>\n",
       "      <td>0.362127</td>\n",
       "    </tr>\n",
       "    <tr>\n",
       "      <th>2015-07-31</th>\n",
       "      <td>280.393456</td>\n",
       "      <td>0.366728</td>\n",
       "    </tr>\n",
       "    <tr>\n",
       "      <th>2015-08-31</th>\n",
       "      <td>242.787177</td>\n",
       "      <td>0.556696</td>\n",
       "    </tr>\n",
       "    <tr>\n",
       "      <th>2015-09-30</th>\n",
       "      <td>234.440229</td>\n",
       "      <td>0.654104</td>\n",
       "    </tr>\n",
       "  </tbody>\n",
       "</table>\n",
       "</div>"
      ],
      "text/plain": [
       "              PriceUSD    Volume\n",
       "TimeStamp                       \n",
       "2014-12-31  369.758667  0.701225\n",
       "2015-01-31  240.810146  0.816935\n",
       "2015-02-28  236.607541  0.638448\n",
       "2015-03-31  271.115614  0.525017\n",
       "2015-04-30  235.304800  0.620728\n",
       "2015-05-31  237.432032  0.439390\n",
       "2015-06-30  239.497082  0.362127\n",
       "2015-07-31  280.393456  0.366728\n",
       "2015-08-31  242.787177  0.556696\n",
       "2015-09-30  234.440229  0.654104"
      ]
     },
     "execution_count": 10,
     "metadata": {},
     "output_type": "execute_result"
    }
   ],
   "source": [
    "df_month.head(10)"
   ]
  },
  {
   "cell_type": "markdown",
   "metadata": {},
   "source": [
    "Now you see that there's some missing day transactions in df_day and we will be removing the day with Nans."
   ]
  },
  {
   "cell_type": "code",
   "execution_count": 11,
   "metadata": {},
   "outputs": [
    {
     "data": {
      "text/html": [
       "<div>\n",
       "<style>\n",
       "    .dataframe thead tr:only-child th {\n",
       "        text-align: right;\n",
       "    }\n",
       "\n",
       "    .dataframe thead th {\n",
       "        text-align: left;\n",
       "    }\n",
       "\n",
       "    .dataframe tbody tr th {\n",
       "        vertical-align: top;\n",
       "    }\n",
       "</style>\n",
       "<table border=\"1\" class=\"dataframe\">\n",
       "  <thead>\n",
       "    <tr style=\"text-align: right;\">\n",
       "      <th></th>\n",
       "      <th>PriceUSD</th>\n",
       "      <th>Volume</th>\n",
       "    </tr>\n",
       "    <tr>\n",
       "      <th>TimeStamp</th>\n",
       "      <th></th>\n",
       "      <th></th>\n",
       "    </tr>\n",
       "  </thead>\n",
       "  <tbody>\n",
       "    <tr>\n",
       "      <th>2014-12-01</th>\n",
       "      <td>346.666667</td>\n",
       "      <td>0.015519</td>\n",
       "    </tr>\n",
       "    <tr>\n",
       "      <th>2014-12-02</th>\n",
       "      <td>377.843750</td>\n",
       "      <td>1.876700</td>\n",
       "    </tr>\n",
       "    <tr>\n",
       "      <th>2014-12-03</th>\n",
       "      <td>377.818333</td>\n",
       "      <td>0.091101</td>\n",
       "    </tr>\n",
       "    <tr>\n",
       "      <th>2014-12-04</th>\n",
       "      <td>377.100000</td>\n",
       "      <td>0.010000</td>\n",
       "    </tr>\n",
       "    <tr>\n",
       "      <th>2014-12-06</th>\n",
       "      <td>378.000000</td>\n",
       "      <td>0.015000</td>\n",
       "    </tr>\n",
       "    <tr>\n",
       "      <th>2014-12-08</th>\n",
       "      <td>375.005000</td>\n",
       "      <td>0.117500</td>\n",
       "    </tr>\n",
       "    <tr>\n",
       "      <th>2014-12-10</th>\n",
       "      <td>379.250000</td>\n",
       "      <td>0.010000</td>\n",
       "    </tr>\n",
       "    <tr>\n",
       "      <th>2014-12-12</th>\n",
       "      <td>362.898000</td>\n",
       "      <td>0.630000</td>\n",
       "    </tr>\n",
       "    <tr>\n",
       "      <th>2014-12-18</th>\n",
       "      <td>342.500000</td>\n",
       "      <td>1.000000</td>\n",
       "    </tr>\n",
       "    <tr>\n",
       "      <th>2015-01-08</th>\n",
       "      <td>295.146504</td>\n",
       "      <td>0.010078</td>\n",
       "    </tr>\n",
       "  </tbody>\n",
       "</table>\n",
       "</div>"
      ],
      "text/plain": [
       "              PriceUSD    Volume\n",
       "TimeStamp                       \n",
       "2014-12-01  346.666667  0.015519\n",
       "2014-12-02  377.843750  1.876700\n",
       "2014-12-03  377.818333  0.091101\n",
       "2014-12-04  377.100000  0.010000\n",
       "2014-12-06  378.000000  0.015000\n",
       "2014-12-08  375.005000  0.117500\n",
       "2014-12-10  379.250000  0.010000\n",
       "2014-12-12  362.898000  0.630000\n",
       "2014-12-18  342.500000  1.000000\n",
       "2015-01-08  295.146504  0.010078"
      ]
     },
     "execution_count": 11,
     "metadata": {},
     "output_type": "execute_result"
    }
   ],
   "source": [
    "# Removing the rows with Nans\n",
    "df_day = df_day.dropna()\n",
    "df_day.head(10)"
   ]
  },
  {
   "cell_type": "markdown",
   "metadata": {},
   "source": [
    "As a last step in checking the datasets, let's visualize our data and then move on to predicting bitcoin prices by day."
   ]
  },
  {
   "cell_type": "code",
   "execution_count": 12,
   "metadata": {
    "scrolled": false
   },
   "outputs": [
    {
     "data": {
      "text/plain": [
       "Text(0,0.5,'Bitcoin Price in USD')"
      ]
     },
     "execution_count": 12,
     "metadata": {},
     "output_type": "execute_result"
    },
    {
     "data": {
      "image/png": "[encoded data removed]",
      "text/plain": [
       "<matplotlib.figure.Figure at 0x7fe094231828>"
      ]
     },
     "metadata": {},
     "output_type": "display_data"
    }
   ],
   "source": [
    "# Visualizing the data\n",
    "fig = plt.figure()\n",
    "\n",
    "# Day\n",
    "plt.subplot(311)\n",
    "plt.plot(df_day.PriceUSD, '-', label='By Days')\n",
    "plt.title('Bitcoin price from Coinbase in USD', fontsize=24)\n",
    "\n",
    "# Month\n",
    "plt.subplot(312)\n",
    "plt.plot(df_month.PriceUSD, '-', label='By Months')\n",
    "plt.ylabel('Bitcoin Price in USD', fontsize=18)"
   ]
  },
  {
   "cell_type": "markdown",
   "metadata": {},
   "source": [
    "As you can see from the graph, from 2014 to 2016, there's not much price change, so I will be only considering the data from the beginning of 2016."
   ]
  },
  {
   "cell_type": "code",
   "execution_count": 13,
   "metadata": {},
   "outputs": [
    {
     "name": "stdout",
     "output_type": "stream",
     "text": [
      "Data shape:  (769, 2)\n"
     ]
    }
   ],
   "source": [
    "# The data we are going to use for prediction\n",
    "data = df_day[(df_day.index > '2016-01-01')]\n",
    "\n",
    "# Check the shape of the data that we are using\n",
    "print('Data shape: ',data.shape)"
   ]
  },
  {
   "cell_type": "markdown",
   "metadata": {},
   "source": [
    "Let's divide the data into training and testing sets. We will be using 80% of the data as training and the rest as testing. Also, note that the target data labels for training will be one sample ahead of the training samples. In other words, we will be using a previous sample to predict the next sample.\n",
    "\n",
    "And make sure you normalize the data, I tried without it in the beginning and the loss was nowhere near converging."
   ]
  },
  {
   "cell_type": "code",
   "execution_count": 14,
   "metadata": {},
   "outputs": [
    {
     "name": "stdout",
     "output_type": "stream",
     "text": [
      "Train data shape: (692,)\n",
      "Test data shape: (77,)\n",
      "Train target shape: (692,)\n"
     ]
    },
    {
     "name": "stderr",
     "output_type": "stream",
     "text": [
      "/home/snakagom/anaconda3/lib/python3.6/site-packages/numpy/core/fromnumeric.py:52: FutureWarning: reshape is deprecated and will raise in a subsequent release. Please use .values.reshape(...) instead\n",
      "  return getattr(obj, method)(*args, **kwds)\n"
     ]
    }
   ],
   "source": [
    "# Total length of the data set\n",
    "tot_len = data.shape[0]\n",
    "\n",
    "# Normalize the data\n",
    "data_max = data.PriceUSD.max()\n",
    "data_min = data.PriceUSD.min()\n",
    "norm_data = (data.PriceUSD - data_min) / (data_max - data_min)\n",
    "\n",
    "# Divide the data into training and testing sets\n",
    "train_len = 0.9\n",
    "train_data = norm_data[:np.int(tot_len*train_len)]\n",
    "test_data = norm_data[np.int(tot_len*train_len):]\n",
    "train_target = norm_data[1:np.int(tot_len*train_len)+1]\n",
    "\n",
    "# Just for checking the dimensions\n",
    "print('Train data shape:',train_data.shape)\n",
    "print('Test data shape:',test_data.shape)\n",
    "print('Train target shape:',train_target.shape)\n",
    "\n",
    "A = np.reshape(train_data, [-1, 1, 1])\n",
    "B = np.reshape(train_target, [-1, 1])\n",
    "C = np.reshape(test_data, [-1, 1, 1])"
   ]
  },
  {
   "cell_type": "markdown",
   "metadata": {},
   "source": [
    "Here, I'm making a helper function to split the data into chunks. This is particularly important in training RNN because if you feed the entire time series, when you backpropagate, the gradient will vanish. Therefore, we are reshaping the dataset in a batch size chunks and train the network with the mini-batches."
   ]
  },
  {
   "cell_type": "code",
   "execution_count": 15,
   "metadata": {},
   "outputs": [
    {
     "name": "stdout",
     "output_type": "stream",
     "text": [
      "(659, 32, 1)\n"
     ]
    }
   ],
   "source": [
    "def chunking(x, future_step):\n",
    "    # Initialize the sequence and the next value\n",
    "    seq = []\n",
    "    next_val = []\n",
    "    # Based on the batch size and the future step size,\n",
    "    # run a for loop to create chunks.\n",
    "    # Here, it's BATCH_SIZE - 1 because we are trying to predict\n",
    "    # one sample ahead. You could change this to your own way\n",
    "    # e.g. want to predict 5 samples ahead, then - 5\n",
    "    for i in range(0, len(x) - BATCH_SIZE - future_step, future_step):\n",
    "        seq.append(x[i: i + BATCH_SIZE])\n",
    "        next_val.append(x[i + BATCH_SIZE + future_step - 1])\n",
    "    \n",
    "    # So now the data is [Samples, Batch size, One step prediction]\n",
    "    seq = np.reshape(seq, [-1, BATCH_SIZE, 1])\n",
    "    next_val = np.reshape(next_val, [-1, 1])\n",
    "    \n",
    "    X = np.array(seq)\n",
    "    Y = np.array(next_val)\n",
    "    \n",
    "    return X,Y\n",
    "\n",
    "# Use the above helper function to prepare the data\n",
    "trainX, trainY = chunking(train_data, 1)\n",
    "testX, testY = chunking(test_data, 1)\n",
    "\n",
    "# As an example, you can see the dimensions are samples x batch_size x 1 sample\n",
    "print(trainX.shape)"
   ]
  },
  {
   "cell_type": "markdown",
   "metadata": {},
   "source": [
    "## Using tflearn to make a simple RNN model\n",
    "\n",
    "From here, we are going to construct a simple RNN (Recurrent Neural Network) model using tflearn which is a higher level API of tensorflow."
   ]
  },
  {
   "cell_type": "code",
   "execution_count": 16,
   "metadata": {},
   "outputs": [
    {
     "name": "stdout",
     "output_type": "stream",
     "text": [
      "Training Step: 1899  | total loss: \u001b[1m\u001b[32m0.00913\u001b[0m\u001b[0m | time: 0.122s\n",
      "| Adam | epoch: 100 | loss: 0.00913 -- iter: 576/593\n",
      "Training Step: 1900  | total loss: \u001b[1m\u001b[32m0.00893\u001b[0m\u001b[0m | time: 1.134s\n",
      "| Adam | epoch: 100 | loss: 0.00893 | val_loss: 0.00974 -- iter: 593/593\n",
      "--\n"
     ]
    }
   ],
   "source": [
    "# Just for jupyter notebook have this line to avoid index-error\\\n",
    "# You can remove this when you are running the entire code on pure python\n",
    "tf.reset_default_graph()\n",
    "\n",
    "# Defining the RNN function\n",
    "def RNN(activator, optimizer):\n",
    "    # Building network\n",
    "    net = tflearn.input_data(shape=[None, BATCH_SIZE, 1])\n",
    "    # Here, I'm just using the most basic rnn cell type\n",
    "    # You could also replace the following with tflearn.lstm or tflearn.gru\n",
    "    net = tflearn.layers.recurrent.simple_rnn(net, NUM_HIDDEN, dropout=0.9, bias=True)\n",
    "    net = tflearn.fully_connected(net, 1, activation=activator)\n",
    "    net = tflearn.regression(net, optimizer=optimizer, loss='mean_square', learning_rate=LEARNING_RATE)\n",
    "    # You could pass the directory path to the following code to create tensorboard logs\n",
    "    # model = tflearn.DNN(net, tensorboard_dir='/Documents/TF_practice/tflearn_logs', tensorboard_verbose=3)\n",
    "    model = tflearn.DNN(net, tensorboard_verbose=3)\n",
    "    \n",
    "    return model\n",
    "\n",
    "# training\n",
    "model = RNN('sigmoid', 'adam')\n",
    "model.fit(trainX, trainY, n_epoch=NUM_EPOCHS, validation_set=0.1, batch_size=BATCH_SIZE)"
   ]
  },
  {
   "cell_type": "code",
   "execution_count": 17,
   "metadata": {
    "collapsed": true
   },
   "outputs": [],
   "source": [
    "# testing and predicting\n",
    "prediction = model.predict(testX)"
   ]
  },
  {
   "cell_type": "code",
   "execution_count": 18,
   "metadata": {},
   "outputs": [
    {
     "data": {
      "text/plain": [
       "<matplotlib.legend.Legend at 0x7fdff85b8f98>"
      ]
     },
     "execution_count": 18,
     "metadata": {},
     "output_type": "execute_result"
    },
    {
     "data": {
      "image/png": "[encoded data removed]",
      "text/plain": [
       "<matplotlib.figure.Figure at 0x7fe05db51320>"
      ]
     },
     "metadata": {},
     "output_type": "display_data"
    }
   ],
   "source": [
    "# Scale both the prediction and the target between 0 and 1\n",
    "max_predict = prediction.max()\n",
    "min_predict = prediction.min()\n",
    "\n",
    "scaled_pred = (prediction - min_predict) / (max_predict - min_predict)\n",
    "\n",
    "max_target = testY.max()\n",
    "min_target = testY.min()\n",
    "\n",
    "scaled_target = (testY - min_target) / (max_target - min_target)\n",
    "\n",
    "plt.plot(scaled_pred[1:], label='Predicted')\n",
    "plt.plot(scaled_target[0:], label='Actual')\n",
    "plt.legend()"
   ]
  }
 ],
 "metadata": {
  "kernelspec": {
   "display_name": "Python 3",
   "language": "python",
   "name": "python3"
  },
  "language_info": {
   "codemirror_mode": {
    "name": "ipython",
    "version": 3
   },
   "file_extension": ".py",
   "mimetype": "text/x-python",
   "name": "python",
   "nbconvert_exporter": "python",
   "pygments_lexer": "ipython3",
   "version": "3.6.3"
  }
 },
 "nbformat": 4,
 "nbformat_minor": 2
}
